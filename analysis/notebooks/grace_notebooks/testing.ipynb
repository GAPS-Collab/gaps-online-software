{
 "cells": [
  {
   "cell_type": "code",
   "execution_count": 2,
   "id": "f47ef894-e53e-43aa-8f3f-244fc43f1817",
   "metadata": {},
   "outputs": [
    {
     "name": "stdout",
     "output_type": "stream",
     "text": [
      "{'rb_id': 'RB1', 'channel': 1, 'baseline_voltage': 0.5}\n",
      "{'RB1': {1: 0.5, 2: 0.6}, 'RB2': {1: 0.4}}\n"
     ]
    }
   ],
   "source": [
    "data = [\n",
    "    {'rb_id': 'RB1', 'channel': 1, 'baseline_voltage': 0.5},\n",
    "    {'rb_id': 'RB1', 'channel': 2, 'baseline_voltage': 0.6},\n",
    "    {'rb_id': 'RB2', 'channel': 1, 'baseline_voltage': 0.4},\n",
    "]\n",
    "\n",
    "print(data[0])\n",
    "# Populate the dictionary\n",
    "my_dict = {}\n",
    "for entry in data:\n",
    "    rb_id = entry['rb_id']\n",
    "    channel = entry['channel']\n",
    "    baseline_voltage = entry['baseline_voltage']\n",
    "    \n",
    "    # Check if rb_id already exists in the dictionary\n",
    "    if rb_id in my_dict:\n",
    "        # If yes, update the sub-dictionary\n",
    "        my_dict[rb_id][channel] = baseline_voltage\n",
    "    else:\n",
    "        # If no, create a new sub-dictionary\n",
    "        my_dict[rb_id] = {channel: baseline_voltage}\n",
    "\n",
    "print(my_dict)"
   ]
  },
  {
   "cell_type": "code",
   "execution_count": null,
   "id": "15f07cdc-a13a-4166-beeb-76586b77eb3e",
   "metadata": {},
   "outputs": [],
   "source": []
  }
 ],
 "metadata": {
  "kernelspec": {
   "display_name": "Python 3 (ipykernel)",
   "language": "python",
   "name": "python3"
  },
  "language_info": {
   "codemirror_mode": {
    "name": "ipython",
    "version": 3
   },
   "file_extension": ".py",
   "mimetype": "text/x-python",
   "name": "python",
   "nbconvert_exporter": "python",
   "pygments_lexer": "ipython3",
   "version": "3.10.12"
  }
 },
 "nbformat": 4,
 "nbformat_minor": 5
}
