{
 "cells": [
  {
   "cell_type": "markdown",
   "id": "0",
   "metadata": {},
   "source": [
    "## Ch9 study\n",
    "\n",
    "The ominuous \"ch9 stuff\". The ninth channel (so tecnnically ch8 if we start counting from zero) carries a sine wave, which is supposed to be the same accross all reacoutboards and should allow to sync the local \n",
    "timestamps by knowing the phase of the sine wave. The since wave oscillates with 25MHz.\n",
    "\n"
   ]
  },
  {
   "cell_type": "code",
   "execution_count": null,
   "id": "1",
   "metadata": {},
   "outputs": [],
   "source": [
    "print (512e-9/(1/25e6)) # expected periods"
   ]
  },
  {
   "cell_type": "code",
   "execution_count": null,
   "id": "2",
   "metadata": {},
   "outputs": [],
   "source": [
    "import gaps_online as go\n",
    "import charmingbeauty as cb\n",
    "import rust_dataclasses as rd\n",
    "import charmingbeauty.layout as lo\n",
    "import tqdm\n",
    "import re\n",
    "#import HErmes.fitting.model as m\n",
    "#import dashi as d\n",
    "#d.visual()\n",
    "\n",
    "from glob import glob\n",
    "from pathlib import Path\n",
    "from copy import deepcopy as copy"
   ]
  },
  {
   "cell_type": "code",
   "execution_count": null,
   "id": "3",
   "metadata": {},
   "outputs": [],
   "source": [
    "tofevents = []\n",
    "files = [glob(f'/data0/gaps/ucla-teststand/16/run_16_{k}*')[0] for k in range(10,20)]\n",
    "\n",
    "for fname in tqdm.tqdm(files):\n",
    "    data = go.tof.get_tofpackets(fname, filter=go.cxx_api.PacketType.TofEvent)\n",
    "    evts = [go.cxx_api.TofEvent.from_tofpacket(k) for k in data]\n",
    "    tofevents.extend(evts)\n",
    "print (len(tofevents))"
   ]
  },
  {
   "cell_type": "code",
   "execution_count": null,
   "id": "4",
   "metadata": {},
   "outputs": [],
   "source": [
    "#cali = go.cxx_api.RBCalibration.from_califile('/data0/gaps/nevis/calib/latest/RB02_2024_01_26-07_48_45.cali.tof.gaps')\n",
    "c37 = go.cxx_api.RBCalibration.from_califile('/data0/gaps/ucla-teststand/calib-unknown/rb_37.cali.tof.gaps')\n",
    "c47 = go.cxx_api.RBCalibration.from_califile('/data0/gaps/ucla-teststand/calib-unknown/rb_47.cali.tof.gaps')\n",
    "c48 = go.cxx_api.RBCalibration.from_califile('/data0/gaps/ucla-teststand/calib-unknown/rb_48.cali.tof.gaps')\n",
    "c49 = go.cxx_api.RBCalibration.from_califile('/data0/gaps/ucla-teststand/calib-unknown/rb_49.cali.tof.gaps')\n",
    "calis = {37 : c37, 47 : c47, 48: c48, 49 : c49}"
   ]
  },
  {
   "cell_type": "code",
   "execution_count": null,
   "id": "5",
   "metadata": {},
   "outputs": [],
   "source": [
    "ev  = tofevents[0]\n",
    "rbs = [47, 48, 49, 37]\n",
    "delta_ts = {k : [] for k in rbs}\n",
    "ts       = {k : [] for k in rbs}\n",
    "z_pks    = {k : [] for k in rbs}\n",
    "gaps_pks = {k : [] for k in rbs}\n",
    "pk0      = {k : [] for k in rbs}\n",
    "pk0      = {k : [] for k in rbs}\n",
    "bl       = {k : [] for k in rbs}\n",
    "for ev in tqdm.tqdm(tofevents):\n",
    "    if len(ev.rbevents) != 4:\n",
    "        continue\n",
    "    for rb in ev.get_rbids():\n",
    "        rb_event = ev.get_rbevent(rb)\n",
    "        \n",
    "        if rb_event.status == go.cxx_api.EventStatus.IncompleteReadout:\n",
    "            continue\n",
    "        volts   = calis[rb].voltages(rb_event)[0]\n",
    "        times   = calis[rb].nanoseconds(rb_event)[0]\n",
    "        this_bl = rb_event.calc_baseline(volts, 10, 50)\n",
    "        bl[rb].append(this_bl)\n",
    "        volts -= this_bl\n",
    "        #print (times)\n",
    "        gpk   = go.rust_api.find_peaks(volts, times, 100, 100, 3, 10, 5)\n",
    "        if len(gpk) > 0:\n",
    "            cfd = go.rust_api.cfd_simple(volts, times, 0.2,gpk[0][0], gpk[0][1])\n",
    "            pk0[rb].append(cfd)\n",
    "        else:\n",
    "            pk0[rb].append(np.nan)\n",
    "        # lag = window size of previous window, \n",
    "        # influence -> 0 means previous peak has no impact on the next\n",
    "        zpk   = go.rust_api.find_peaks_zscore(volts, times, 100, 100, 50, 10, 0)\n",
    "        gaps_pks[rb].append(gpk)\n",
    "        z_pks[rb].append(zpk)\n",
    "        #print (gpk)\n",
    "        #print (zpk)\n",
    "        #p.plot(volts)\n",
    "        #raise\n",
    "        #print (volts)\n",
    "        #raise\n",
    "        #times = calis[rb].nanoseconds(rb_event)[0]\n",
    "        \n",
    "        pks = go.rust_api\n",
    "        delta_ts[rb].append(rb_event.header.get_timestamp48() - ev.mt_event.timestamp)\n",
    "        ts[rb].append(ev.get_rbevent(rb).header.get_timestamp48())\n",
    "#print (ev)\n",
    "#print (ev.get_rbids())"
   ]
  },
  {
   "cell_type": "code",
   "execution_count": null,
   "id": "6",
   "metadata": {},
   "outputs": [],
   "source": [
    "%matplotlib inline\n",
    "fig = p.figure(figsize=lo.FIGSIZE_A4_LANDSCAPE)\n",
    "ax  = fig.gca()\n",
    "\n",
    "colors = 'r', 'b', 'c', 'm'\n",
    "bins = np.linspace(-1,4,100)\n",
    "for rb_id in bl.keys():\n",
    "    h = d.histfactory.hist1d(bl[rb_id],bins)\n",
    "    h.line(filled=False, alpha=0.8, label=f'RB {rb_id}')\n",
    "    #h.line(filled=False)\n",
    "ax.legend()\n",
    "ax.set_yscale('symlog')\n",
    "ax.set_ylim(bottom=0)\n",
    "ax.set_xlabel('baseline ch0 (mV)', loc='right')\n",
    "ax.set_ylabel('events', loc='top')"
   ]
  },
  {
   "cell_type": "code",
   "execution_count": null,
   "id": "7",
   "metadata": {},
   "outputs": [],
   "source": [
    "%matplotlib inline\n",
    "fig = p.figure(figsize=lo.FIGSIZE_A4_LANDSCAPE)\n",
    "ax  = fig.gca()\n",
    "\n",
    "colors = 'r', 'b', 'c', 'm'\n",
    "bins = np.linspace(-1,4,100)\n",
    "bins = np.arange(0.5,10.5,0.5)\n",
    "bins = 100\n",
    "bins = np.linspace(-10,10,100)\n",
    "data = np.array(pk0[48]) - np.array(pk0[47])\n",
    "#data = np.sqrt(data**2)\n",
    "for rb_id in gaps_pks.keys():\n",
    "    #print (gaps_pks[rb_id])\n",
    "    #print (z_pks[rb_id])\n",
    "    #data = [len(k) for k in gaps_pks[rb_id]]\n",
    "    #data = [len(k) for k in z_pks[rb_id]]\n",
    "    #data = [k[0][0] for k in gaps_pks[rb_id] if len (k) > 0]\n",
    "    #data = pk0[rb_id]\n",
    "    \n",
    "    h = d.histfactory.hist1d(data,bins)\n",
    "    h.line(filled=False, alpha=0.8, label=f'RB {rb_id}')\n",
    "    break\n",
    "    #h.line(filled=False)\n",
    "ax.legend()\n",
    "ax.set_yscale('symlog')\n",
    "ax.set_ylim(bottom=0)\n",
    "ax.set_xlabel('peak start time (ns)', loc='right')\n",
    "ax.set_ylabel('events', loc='top')"
   ]
  },
  {
   "cell_type": "code",
   "execution_count": null,
   "id": "8",
   "metadata": {},
   "outputs": [],
   "source": [
    "event = tofevents[15]\n",
    "for rb_id in event.get_rbids():\n",
    "    rb_event = event.get_rbevent(rb_id)\n",
    "    rb_event.plot(calib=calis[rb_id])"
   ]
  },
  {
   "cell_type": "code",
   "execution_count": null,
   "id": "9",
   "metadata": {},
   "outputs": [],
   "source": [
    "print (bl)"
   ]
  },
  {
   "cell_type": "code",
   "execution_count": null,
   "id": "10",
   "metadata": {},
   "outputs": [],
   "source": [
    "#go.rust_api.cfd_simple?\n",
    "go.rust_api.find_peaks_zscore?\n",
    "#go.rust_api.find_peaks?"
   ]
  },
  {
   "cell_type": "code",
   "execution_count": null,
   "id": "11",
   "metadata": {},
   "outputs": [],
   "source": [
    "%matplotlib inline\n",
    "for k in delta_ts:\n",
    "    print (k, len(delta_ts[k]))\n",
    "\n",
    "fig = p.figure(figsize=lo.FIGSIZE_A4_LANDSCAPE)\n",
    "ax  = fig.gca()\n",
    "for k in ts:\n",
    "    ts[k] = np.array(ts[k])\n",
    "bins = np.linspace(0,0.1,100)\n",
    "bins = 100\n",
    "delta = ts[48] - ts[49]\n",
    "print(max(delta), min(delta))\n",
    "h4847 = d.factory.hist1d(delta,bins)\n",
    "h4847.line()\n",
    "#for rbid in rbs:\n",
    "#    h = d.factory.hist1d(delta_ts[rbid],100)\n",
    "#    h.line()\n",
    "#    break\n",
    "\n",
    "p.show()\n",
    "    "
   ]
  },
  {
   "cell_type": "code",
   "execution_count": null,
   "id": "12",
   "metadata": {},
   "outputs": [],
   "source": [
    "p.plot(ts[37])"
   ]
  },
  {
   "cell_type": "code",
   "execution_count": null,
   "id": "13",
   "metadata": {},
   "outputs": [],
   "source": [
    "print (ev.mt_event)"
   ]
  },
  {
   "cell_type": "code",
   "execution_count": null,
   "id": "14",
   "metadata": {},
   "outputs": [],
   "source": [
    "rbev = ev.rbevents[0]\n",
    "print (rbev)\n",
    "rbev.header.get_timestamp48()"
   ]
  },
  {
   "cell_type": "code",
   "execution_count": null,
   "id": "15",
   "metadata": {},
   "outputs": [],
   "source": [
    "data = go.cxx_api.get_tofpackets('/data0/gaps/nevis/54/Run54_10.2024_01_26-02_29_27.gaps.tof', filter=go.cxx_api.PacketType.TofEvent)\n"
   ]
  },
  {
   "cell_type": "code",
   "execution_count": null,
   "id": "16",
   "metadata": {},
   "outputs": [],
   "source": [
    "go.cxx_api.TofEvent.from_tofpacket(data[100]).rbevents[0].plot()"
   ]
  },
  {
   "cell_type": "code",
   "execution_count": null,
   "id": "17",
   "metadata": {},
   "outputs": [],
   "source": []
  }
 ],
 "metadata": {
  "kernelspec": {
   "display_name": "Python 3 (ipykernel)",
   "language": "python",
   "name": "python3"
  },
  "language_info": {
   "codemirror_mode": {
    "name": "ipython",
    "version": 3
   },
   "file_extension": ".py",
   "mimetype": "text/x-python",
   "name": "python",
   "nbconvert_exporter": "python",
   "pygments_lexer": "ipython3",
   "version": "3.10.12"
  }
 },
 "nbformat": 4,
 "nbformat_minor": 5
}
