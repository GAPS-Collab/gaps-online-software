{
 "cells": [
  {
   "cell_type": "code",
   "execution_count": null,
   "id": "0",
   "metadata": {
    "jupyter": {
     "source_hidden": true
    }
   },
   "outputs": [],
   "source": [
    "import gaps_online as go\n",
    "import gaps_online.db as db\n",
    "import re\n",
    "from glob import glob\n",
    "import numpy as np\n",
    "import math\n",
    "from collections import defaultdict\n",
    "import matplotlib.pyplot as plt\n",
    "from tqdm.notebook import tqdm\n",
    "from pathlib import Path\n",
    "import scipy.optimize\n",
    "from scipy.stats import chi2"
   ]
  },
  {
   "cell_type": "code",
   "execution_count": null,
   "id": "1",
   "metadata": {
    "jupyter": {
     "source_hidden": true
    }
   },
   "outputs": [],
   "source": [
    "def fit_sine(nanoseconds, volts):\n",
    "    tt = np.array(nanoseconds)\n",
    "    yy = np.array(volts)\n",
    "    ff = np.fft.fftfreq(len(tt), (tt[1]-tt[0]))   # assume uniform spacing\n",
    "    Fyy = abs(np.fft.fft(yy))\n",
    "    guess_freq = abs(ff[np.argmax(Fyy[1:])+1])   # excluding the zero frequency \"peak\", which is related to offset\n",
    "    guess_amp = np.std(yy) * 2.**0.5\n",
    "    guess_offset = np.mean(yy)\n",
    "    guess = np.array([guess_amp, 2.*np.pi*guess_freq, 0., guess_offset])\n",
    "\n",
    "    def sinfunc(t, A, w, p, c):  return A * np.sin(w*t + p) + c\n",
    "    popt, pcov = scipy.optimize.curve_fit(sinfunc, tt, yy, p0=guess)\n",
    "    A, w, p, c = popt\n",
    "\n",
    "    phase_multiple_pi = p / np.pi\n",
    "\n",
    "    # Calculate R-squared\n",
    "    residuals = yy - sinfunc(tt, *popt)\n",
    "    ss_res = np.sum(residuals**2)\n",
    "    ss_tot = np.sum((yy - np.mean(yy))**2)\n",
    "    r_squared = 1 - (ss_res / ss_tot)\n",
    "\n",
    "    # Calculate expected values from the fitted sine curve\n",
    "    expected_values = sinfunc(tt, *popt)\n",
    "    \n",
    "    # Calculate observed frequencies\n",
    "    observed_values, _ = np.histogram(yy, bins=len(tt))\n",
    "    \n",
    "    # Calculate chi-squared statistic\n",
    "    chi_squared_stat = np.sum((observed_values - expected_values)**2 / expected_values)\n",
    "    \n",
    "    # Determine degrees of freedom\n",
    "    df = len(tt) - len(popt)\n",
    "\n",
    "    reduced_chi_squared = chi_squared_stat / df\n",
    "    \n",
    "    # Calculate p-value using chi-square distribution\n",
    "    p_value = 1 - chi2.cdf(chi_squared_stat, df)\n",
    "    \n",
    "    f = w/(2.*np.pi)\n",
    "    fitfunc = lambda t: A * np.sin(w*t + p) + c\n",
    "    return {\"amp\": f\"{A:.2f}\", \"omega\": f\"{w:.2f}\", \"phase\" : f\"{p: .2f}\", \"phase_formatted\": f\"{phase_multiple_pi:.2f}π\", \"offset\": f\"{c:.2f}\", \"freq\": f\"{f:.2f}\", \"period\": f\"{1./f:.2f}\", \"fitfunc\": fitfunc, \"maxcov\": f\"{np.max(pcov):.2f}\", \"rawres\": (guess,popt,pcov), \"r_squared\": f\"{r_squared:.2f}\", \"chi_squared_stat\": f\"{chi_squared_stat:.2f}\",\n",
    "            \"p_value\": f\"{p_value:.2f}\", 'reduced_chi_squared': f\"{reduced_chi_squared:.2f}\"}\n"
   ]
  },
  {
   "cell_type": "code",
   "execution_count": null,
   "id": "2",
   "metadata": {
    "jupyter": {
     "outputs_hidden": true,
     "source_hidden": true
    }
   },
   "outputs": [],
   "source": [
    "calib = go.tof.calibrations.load_calibrations(Path('/data1/nextcloud/cra_data/data/2023_nevis/tof/calibration/20240305/'))\n",
    "\n",
    "if len(calib.keys()) != 40: \n",
    "    missing = 40 -len(calib.keys())\n",
    "    print(f'Oh no! {missing} calibrations are missing :(')\n",
    "else: print('Yay! All calibration files were loaded :)')"
   ]
  },
  {
   "cell_type": "code",
   "execution_count": null,
   "id": "3",
   "metadata": {},
   "outputs": [],
   "source": [
    "fixed_path = \"/data1/nextcloud/cra_data/data/2023_nevis/tof/142/Run142\"\n",
    "\n",
    "files = glob(f'{fixed_path}_*.tof.gaps')\n",
    "\n",
    "data = go.tof.get_tofpackets(test_file, filter=go.cxx_api.PacketType.TofEvent)\n",
    "evts = [go.cxx_api.TofEvent.from_tofpacket(k) for k in data]\n",
    "\n",
    "print(len(files[:10]))"
   ]
  },
  {
   "cell_type": "code",
   "execution_count": null,
   "id": "4",
   "metadata": {},
   "outputs": [],
   "source": [
    "ch9_hits = []\n",
    "ch9_hits_dict = defaultdict(list)\n",
    "\n",
    "betas = []\n",
    "phases = {}\n",
    "for file in files[:10]:\n",
    "    for ev in tqdm(evts):\n",
    "        rbids = ev.get_rbids()\n",
    "        id = ev.header.event_id\n",
    "        if not any(rb_id in rbids for rb_id in (15, 16)):\n",
    "            continue \n",
    "        for event_id in (ev.get_rbevent(k) for k in rbids):\n",
    "            \n",
    "            if event_id.header.rb_id == 0:\n",
    "                continue \n",
    "            key = event_id.header.rb_id\n",
    "            if len(str(key)) > 2:\n",
    "                continue  # error where some ids are in the hundreds\n",
    "            try:\n",
    "                calibration = calib[key]\n",
    "            except KeyError:\n",
    "                continue\n",
    "            tt = np.linspace(0, 500, 1024)\n",
    "            voltage_calib = calibration.voltages(event_id)\n",
    "            ch9_voltages = voltage_calib[8]\n",
    "            \n",
    "            res = fit_sine(tt, ch9_voltages)\n",
    "            phase = float(res['phase'])\n",
    "            omega = float(res['omega'])\n",
    "            phase_shift = phase / omega\n",
    "            phases[event_id.header.rb_id] = abs(phase_shift)\n",
    "            \n",
    "            if phase_shift < 0:\n",
    "                phase_shift = -phase_shift\n",
    "            for h in event_id.hits:\n",
    "                if h.paddle_id not in (6, 66):\n",
    "                    continue\n",
    "                x_position = h.x_pos\n",
    "                t_avg = h.t_avg\n",
    "                info = {'event_id' : id, 'paddle_id' : h.paddle_id, 'x_position': x_position, 't_avg': t_avg, 'phase_shift': phase_shift}\n",
    "                ch9_hits.append(info)"
   ]
  },
  {
   "cell_type": "code",
   "execution_count": null,
   "id": "5",
   "metadata": {},
   "outputs": [],
   "source": [
    "for element in tqdm(ch9_hits):\n",
    "    event_id = element['event_id']\n",
    "    paddle_id = element['paddle_id']\n",
    "    x_position = element['x_position']\n",
    "    t_avg = element['t_avg']\n",
    "    phase_shift = element['phase_shift']\n",
    "\n",
    "    # Check if the event ID already exists in the dictionary\n",
    "    if event_id in ch9_hits_dict:\n",
    "        # If yes, check if the paddle ID already exists for this event ID\n",
    "        if paddle_id in ch9_hits_dict[event_id]:\n",
    "            # If yes, append the data to the existing list for the paddle ID\n",
    "            ch9_hits_dict[event_id][paddle_id].append({'x_position': x_position, 't_avg': t_avg, 'phase_shift': phase_shift})\n",
    "        else:\n",
    "            # If no, create a new entry for the paddle ID with a list containing the data\n",
    "            ch9_hits_dict[event_id][paddle_id] = [{'x_position': x_position, 't_avg': t_avg, 'phase_shift': phase_shift}]\n",
    "    else:\n",
    "        # If the event ID doesn't exist, create a new entry for it with the paddle ID\n",
    "        ch9_hits_dict[event_id] = {paddle_id: [{'x_position': x_position, 't_avg': t_avg, 'phase_shift': phase_shift}]}\n",
    "\n",
    "# # # Now print the paddle IDs\n",
    "# for event_id, paddle_data in ch9_hits_dict.items():\n",
    "#     # Print the event ID\n",
    "#     print(\"Event ID:\", event_id)\n",
    "#     # Iterate over the keys (paddle IDs) in the inner dictionary\n",
    "#     for paddle_id in paddle_data.keys():\n",
    "#         # Print each paddle ID\n",
    "#         print(\"Paddle ID:\", paddle_id)\n"
   ]
  },
  {
   "cell_type": "code",
   "execution_count": null,
   "id": "6",
   "metadata": {},
   "outputs": [],
   "source": [
    "betas = []\n",
    "time_diff_dist = []\n",
    "\n",
    "for event_id, paddle_data in ch9_hits_dict.items():\n",
    "    paddle_66_loc = 1989 \n",
    "    paddle_66_cblen = 2950 / 1000\n",
    "    paddle_6_loc = 1287\n",
    "    paddle_6_cblen = 3750 / 1000\n",
    "\n",
    "    delta_loc = paddle_66_loc - paddle_6_loc\n",
    "    ratio_cblen = paddle_66_cblen / paddle_6_cblen\n",
    "    if len(paddle_data) != 2: continue\n",
    "    \n",
    "    for paddle_id, data_list in paddle_data.items(): \n",
    "       \n",
    "        if paddle_id == 66:\n",
    "            for data in data_list:\n",
    "                x_pos_66 = data['x_position']\n",
    "                time_paddle_66 = data['t_avg']\n",
    "                phase_shift_66 = data['phase_shift']\n",
    "        elif paddle_id == 6:\n",
    "            for data in data_list:\n",
    "                time_paddle_6 = data['t_avg']\n",
    "                x_pos_6 = data['x_position']\n",
    "                phase_shift_6 = data['phase_shift']\n",
    "\n",
    "        time_paddle_6 -= phase_shift_6\n",
    "        time_paddle_66 -= phase_shift_66\n",
    "\n",
    "        absolute_time = (time_paddle_6 - time_paddle_66) /(10**9)  # seconds\n",
    "        absolute_x_diff = abs(x_pos_6 - x_pos_66) / (100)  # m\n",
    "        cblen_diff = (paddle_6_cblen - paddle_66_cblen ) / 1000\n",
    "        hypotenuse = np.sqrt((absolute_x_diff)**2 + (cblen_diff)**2) #mm\n",
    "        time_diff_dist.append(absolute_time)\n",
    "        \n",
    "        beta = hypotenuse / absolute_time \n",
    "        beta = beta / scipy.constants.c\n",
    "        beta_str = \"{:.3e}\".format(beta)\n",
    "        betas.append(beta_str) \n"
   ]
  },
  {
   "cell_type": "code",
   "execution_count": null,
   "id": "7",
   "metadata": {},
   "outputs": [],
   "source": [
    "betas = [float(b) for b in betas]\n",
    "\n",
    "plt.hist(betas, bins = 40, range = (-1.5,1.5))\n",
    "plt.xlabel(r'$\\beta$')\n",
    "plt.show()"
   ]
  },
  {
   "cell_type": "code",
   "execution_count": null,
   "id": "8",
   "metadata": {},
   "outputs": [],
   "source": [
    "plt.hist(time_diff_dist, bins = 10)\n",
    "plt.xlabel('RB Timing Diff')\n",
    "plt.show()"
   ]
  },
  {
   "cell_type": "code",
   "execution_count": null,
   "id": "9",
   "metadata": {},
   "outputs": [],
   "source": []
  }
 ],
 "metadata": {
  "kernelspec": {
   "display_name": "Python 3 (ipykernel)",
   "language": "python",
   "name": "python3"
  },
  "language_info": {
   "codemirror_mode": {
    "name": "ipython",
    "version": 3
   },
   "file_extension": ".py",
   "mimetype": "text/x-python",
   "name": "python",
   "nbconvert_exporter": "python",
   "pygments_lexer": "ipython3",
   "version": "3.10.12"
  }
 },
 "nbformat": 4,
 "nbformat_minor": 5
}
