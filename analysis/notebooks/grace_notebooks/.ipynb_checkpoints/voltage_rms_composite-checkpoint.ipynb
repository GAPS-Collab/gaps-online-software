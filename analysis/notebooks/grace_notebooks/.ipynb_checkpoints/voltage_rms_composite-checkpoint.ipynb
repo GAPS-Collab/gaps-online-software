{
 "cells": [
  {
   "cell_type": "code",
   "execution_count": 3,
   "id": "d98a689e-e6e2-4f28-b801-c715331a3e2f",
   "metadata": {},
   "outputs": [],
   "source": [
    "import gaps_online as go"
   ]
  },
  {
   "cell_type": "code",
   "execution_count": null,
   "id": "892bf439-35c8-4e03-a855-18f3ccf262d3",
   "metadata": {},
   "outputs": [],
   "source": []
  }
 ],
 "metadata": {
  "kernelspec": {
   "display_name": "Python 3 (ipykernel)",
   "language": "python",
   "name": "python3"
  },
  "language_info": {
   "codemirror_mode": {
    "name": "ipython",
    "version": 3
   },
   "file_extension": ".py",
   "mimetype": "text/x-python",
   "name": "python",
   "nbconvert_exporter": "python",
   "pygments_lexer": "ipython3",
   "version": "3.10.12"
  }
 },
 "nbformat": 4,
 "nbformat_minor": 5
}
