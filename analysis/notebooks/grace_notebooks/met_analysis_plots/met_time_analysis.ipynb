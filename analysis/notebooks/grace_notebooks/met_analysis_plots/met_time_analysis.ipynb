{
 "cells": [
  {
   "cell_type": "code",
   "execution_count": 1,
   "id": "e7b91d41-b9c3-45d4-a1e9-a37f369e6073",
   "metadata": {},
   "outputs": [],
   "source": [
    "import matplotlib\n",
    "import matplotlib.pyplot as plt\n",
    "import numpy as np\n",
    "from collections import defaultdict\n",
    "import sys\n",
    "from tqdm import tqdm\n",
    "import pathlib\n",
    "from pathlib import Path\n",
    "import contextlib\n",
    "import io"
   ]
  },
  {
   "cell_type": "code",
   "execution_count": 2,
   "id": "542b1339-de28-4542-815c-595684c62319",
   "metadata": {
    "scrolled": true
   },
   "outputs": [
    {
     "data": {
      "text/plain": [
       "'3.12.6 (main, Sep  6 2024, 19:03:47) [Clang 15.0.0 (clang-1500.3.9.4)]'"
      ]
     },
     "execution_count": 2,
     "metadata": {},
     "output_type": "execute_result"
    }
   ],
   "source": [
    "import sys\n",
    "sys.version"
   ]
  },
  {
   "cell_type": "code",
   "execution_count": 3,
   "id": "c7ee49ee-fbaf-4f06-a975-15a8fb9f5ddc",
   "metadata": {},
   "outputs": [
    {
     "name": "stdout",
     "output_type": "stream",
     "text": [
      "Can't load CXX API! No module named 'gaps_tof'\n"
     ]
    }
   ],
   "source": [
    "# import gaps_online as go\n",
    "import go_pybindings as go\n",
    "import gaps_online.db as db"
   ]
  },
  {
   "cell_type": "code",
   "execution_count": 6,
   "id": "e10f57de-35c2-46cc-b710-e8fc62f915a3",
   "metadata": {},
   "outputs": [],
   "source": [
    "# run_id = 30198\n",
    "# dataset = pathlib.Path(f'/Users/gracetytus/gaps/test_charge_data/{run_id}')\n",
    "#files = [f for f in sorted(dataset.glob('*.tof.gaps'))]\n",
    "\n",
    "run_path = Path('/Users/gracetytus/gaps/test_charge_data/30198')\n",
    "\n",
    "files = np.array([str(f) for f in ((run_path.glob('*.tof.gaps')))])\n",
    "f_nums = [int(file.split('.')[0].split('_')[-1]) for file in files]\n",
    "files = files[np.argsort(f_nums)]"
   ]
  },
  {
   "cell_type": "code",
   "execution_count": 8,
   "id": "87b24882-ecca-4300-91f0-b118b58c55f8",
   "metadata": {},
   "outputs": [
    {
     "name": "stdout",
     "output_type": "stream",
     "text": [
      "263\n"
     ]
    }
   ],
   "source": [
    "files[0].split('.')[0].split('_')[-1]\n",
    "print(len(files))"
   ]
  },
  {
   "cell_type": "code",
   "execution_count": null,
   "id": "4ffc3b25-894d-4a00-87ef-5f4e9acee550",
   "metadata": {
    "jupyter": {
     "source_hidden": true
    },
    "scrolled": true
   },
   "outputs": [],
   "source": [
    "#depreciated\n",
    "\n",
    "event_list = []\n",
    "for f in files[:2]:\n",
    "    reader = go.io.TofPacketReader(str(f), filter=go.io.PacketType.TofEvent)\n",
    "    \n",
    "    for k in tqdm.tqdm(reader):\n",
    "        event = go.events.TofEvent()\n",
    "        event.from_tofpacket(k)\n",
    "        settings = go.liftof.LiftofSettings()\n",
    "        settings = settings.from_file('/Users/gracetytus/gaps/test_charge_data/30141/run30141.toml')\n",
    "    \n",
    "        new_ev = go.liftof.waveform_analysis(event, settings)\n",
    "        event_list.append(new_ev)"
   ]
  },
  {
   "cell_type": "code",
   "execution_count": 9,
   "id": "a1738c50-7f41-47e4-9ddb-f2c2f4e76ed7",
   "metadata": {},
   "outputs": [
    {
     "name": "stdout",
     "output_type": "stream",
     "text": [
      "['/Users/gracetytus/gaps/test_charge_data/30198/Run30198_0.240816_044057UTC.tof.gaps'\n",
      " '/Users/gracetytus/gaps/test_charge_data/30198/Run30198_1.240816_044304UTC.tof.gaps'\n",
      " '/Users/gracetytus/gaps/test_charge_data/30198/Run30198_2.240816_044400UTC.tof.gaps'\n",
      " '/Users/gracetytus/gaps/test_charge_data/30198/Run30198_3.240816_044457UTC.tof.gaps'\n",
      " '/Users/gracetytus/gaps/test_charge_data/30198/Run30198_4.240816_044554UTC.tof.gaps'\n",
      " '/Users/gracetytus/gaps/test_charge_data/30198/Run30198_5.240816_044650UTC.tof.gaps'\n",
      " '/Users/gracetytus/gaps/test_charge_data/30198/Run30198_6.240816_044746UTC.tof.gaps'\n",
      " '/Users/gracetytus/gaps/test_charge_data/30198/Run30198_7.240816_044842UTC.tof.gaps'\n",
      " '/Users/gracetytus/gaps/test_charge_data/30198/Run30198_8.240816_044939UTC.tof.gaps'\n",
      " '/Users/gracetytus/gaps/test_charge_data/30198/Run30198_9.240816_045036UTC.tof.gaps']\n"
     ]
    }
   ],
   "source": [
    "print(files[:10])"
   ]
  },
  {
   "cell_type": "code",
   "execution_count": null,
   "id": "e68bd21c-f183-408f-8ac9-e87771c4645a",
   "metadata": {
    "jupyter": {
     "source_hidden": true
    }
   },
   "outputs": [],
   "source": [
    "## multiple files\n",
    "\n",
    "n_trigger_hits = 0\n",
    "n_readout_hits = 0\n",
    "npack          = 0\n",
    "done           = False\n",
    "evtbld_hb      = []\n",
    "mtbmonis       = []\n",
    "\n",
    "for file in files:\n",
    "    reader = go.io.TofPacketReader(str(file))\n",
    "    for pack in reader:\n",
    "        npack += 1\n",
    "        if pack.packet_type == go.io.PacketType.TofEvent:\n",
    "            ev = go.events.TofEvent()\n",
    "            try:\n",
    "                ev.from_tofpacket(pack)\n",
    "                n_readout_hits += len(ev.hits)\n",
    "                n_trigger_hits += len(ev.mastertriggerevent.trigger_hits)\n",
    "            except: continue \n",
    "    \n",
    "        # heartbeat data is only stored in later runs\n",
    "        elif pack.packet_type == go.io.PacketType.EVTBLDRHeartbeat:\n",
    "            hb = go.commands.EVTBLDRHeartbeat()\n",
    "            #hb = go.tof.monitoring.EVTBLDRHeartbeat()\n",
    "            try: \n",
    "                hb.from_tofpacket(pack)\n",
    "                evtbld_hb.append(hb)\n",
    "            except: continue\n",
    "    \n",
    "        elif pack.packet_type == go.io.PacketType.MonitorMtb:\n",
    "            #moni = go.tof.monitoring.MtbMoniData()\n",
    "            moni = go.moni.MtbMoniData()\n",
    "            try: \n",
    "                moni.from_tofpacket(pack)\n",
    "                mtbmonis.append(moni)\n",
    "            except: continue "
   ]
  },
  {
   "cell_type": "code",
   "execution_count": 10,
   "id": "8ed66d6b-af63-4679-8309-281e1bb52205",
   "metadata": {},
   "outputs": [],
   "source": [
    "reader = go.io.TofPacketReader(str(files[0]))"
   ]
  },
  {
   "cell_type": "code",
   "execution_count": null,
   "id": "403a7989-5f5f-4057-a4a5-7fd942f5c6a7",
   "metadata": {
    "jupyter": {
     "source_hidden": true
    }
   },
   "outputs": [],
   "source": [
    "n_evt_packets = 0\n",
    "n_heartbeat_packets = 0\n",
    "n_monitor_packets = 0\n",
    "\n",
    "reader = go.io.TofPacketReader(str(files[0]))\n",
    "for packet in reader:\n",
    "    if packet.packet_type == go.io.PacketType.TofEvent:\n",
    "        n_evt_packets += 1\n",
    "        event = go.events.TofEvent()\n",
    "    elif packet.packet_type == go.io.PacketType.EVTBLDRHeartbeat:\n",
    "        n_heartbeat_packets += 1\n",
    "        heartbeat = go.commands.EVTBLDRHeartbeat()\n",
    "        #heartbeat.from_tofpacket(packet)\n",
    "    elif packet.packet_type == go.io.PacketType.MonitorMtb:\n",
    "        n_monitor_packets += 1\n",
    "        monitor = go.moni.MtbMoniData()\n",
    "        monitor.from_tofpacket(packet)"
   ]
  },
  {
   "cell_type": "code",
   "execution_count": null,
   "id": "ef7b3f8d-94b1-4a25-98e5-450d3acf1146",
   "metadata": {},
   "outputs": [],
   "source": [
    "n_heartbeat_packets"
   ]
  },
  {
   "cell_type": "code",
   "execution_count": null,
   "id": "dab88b94-2069-4cf6-b8d6-f4a2d5854556",
   "metadata": {},
   "outputs": [],
   "source": [
    "n_evt_packets"
   ]
  },
  {
   "cell_type": "code",
   "execution_count": null,
   "id": "e4c97b0d-91df-4801-a5ed-fb18727aede4",
   "metadata": {},
   "outputs": [],
   "source": [
    "n_monitor_packets"
   ]
  },
  {
   "cell_type": "code",
   "execution_count": 12,
   "id": "372e3ea4-4703-4c86-88c5-1128d07de0cf",
   "metadata": {
    "scrolled": true
   },
   "outputs": [
    {
     "name": "stdout",
     "output_type": "stream",
     "text": [
      "Processing files:  17%|██████████████████▏                                                                                          | 44/263 [00:09<00:47,  4.60file/s]\n"
     ]
    },
    {
     "ename": "KeyboardInterrupt",
     "evalue": "",
     "output_type": "error",
     "traceback": [
      "\u001b[0;31m---------------------------------------------------------------------------\u001b[0m",
      "\u001b[0;31mKeyboardInterrupt\u001b[0m                         Traceback (most recent call last)",
      "Cell \u001b[0;32mIn[12], line 11\u001b[0m\n\u001b[1;32m      6\u001b[0m reader \u001b[38;5;241m=\u001b[39m go\u001b[38;5;241m.\u001b[39mio\u001b[38;5;241m.\u001b[39mTofPacketReader(\u001b[38;5;28mstr\u001b[39m(f))\n\u001b[1;32m      7\u001b[0m \u001b[38;5;28;01mfor\u001b[39;00m pack \u001b[38;5;129;01min\u001b[39;00m reader:\n\u001b[1;32m      8\u001b[0m     \n\u001b[1;32m      9\u001b[0m \n\u001b[1;32m     10\u001b[0m     \u001b[38;5;66;03m# heartbeat data is only stored in later runs\u001b[39;00m\n\u001b[0;32m---> 11\u001b[0m     \u001b[38;5;28;01mif\u001b[39;00m pack\u001b[38;5;241m.\u001b[39mpacket_type \u001b[38;5;241m==\u001b[39m go\u001b[38;5;241m.\u001b[39mio\u001b[38;5;241m.\u001b[39mPacketType\u001b[38;5;241m.\u001b[39mEVTBLDRHeartbeat:\n\u001b[1;32m     12\u001b[0m         hb \u001b[38;5;241m=\u001b[39m go\u001b[38;5;241m.\u001b[39mcommands\u001b[38;5;241m.\u001b[39mMTBHeartbeat()\n\u001b[1;32m     13\u001b[0m         \u001b[38;5;66;03m#hb = go.tof.monitoring.EVTBLDRHeartbeat()\u001b[39;00m\n",
      "\u001b[0;31mKeyboardInterrupt\u001b[0m: "
     ]
    }
   ],
   "source": [
    "evtbld_hb      = []\n",
    "\n",
    "with contextlib.redirect_stderr(io.StringIO()):\n",
    "    for f in tqdm(files, desc=\"Processing files\", unit=\"file\", file=sys.stdout):\n",
    "\n",
    "        reader = go.io.TofPacketReader(str(f))\n",
    "        for pack in reader:\n",
    "            \n",
    "        \n",
    "            # heartbeat data is only stored in later runs\n",
    "            if pack.packet_type == go.io.PacketType.MTBHeartbeat:\n",
    "                hb = go.commands.MTBHeartbeat()\n",
    "                #hb = go.tof.monitoring.EVTBLDRHeartbeat()\n",
    "                try: \n",
    "                    hb.from_tofpacket(pack)\n",
    "                    evtbld_hb.append(hb)\n",
    "                except: continue\n",
    "        "
   ]
  },
  {
   "cell_type": "code",
   "execution_count": 30,
   "id": "4997b72e-ba48-4242-bc45-704010581ecb",
   "metadata": {},
   "outputs": [],
   "source": [
    "percent_hg_discarded = []\n",
    "met_from_hb = []\n",
    "\n",
    "for hb in evtbld_hb:\n",
    "    rb_disc = hb.n_rbe_discarded_tot\n",
    "    rb_rec = hb.n_rbe_received_tot\n",
    "    trate = hb.\n",
    "    \n",
    "    if rb_rec != 0:\n",
    "        percent_disc = (rb_disc / rb_rec) * 100\n",
    "        percent_disc = round(percent_disc, 1)\n",
    "        if percent_disc != 100.0:\n",
    "            percent_hg_discarded.append(percent_disc)\n",
    "    \n",
    "            met = hb.met_seconds\n",
    "            met_from_hb.append(met)"
   ]
  },
  {
   "cell_type": "code",
   "execution_count": null,
   "id": "23b09b30-d8d0-408e-af77-7e5b681a8ab6",
   "metadata": {},
   "outputs": [],
   "source": []
  },
  {
   "cell_type": "code",
   "execution_count": null,
   "id": "51bea708-1761-4584-922a-7b5f3482ec67",
   "metadata": {},
   "outputs": [],
   "source": []
  },
  {
   "cell_type": "code",
   "execution_count": 23,
   "id": "5ed833e3-3d68-402d-8745-29da67503985",
   "metadata": {},
   "outputs": [
    {
     "name": "stdout",
     "output_type": "stream",
     "text": [
      "[100.0, 4.9, 2.6, 1.9, 1.7, 1.4, 1.2, 1.1, 1.0, 0.9, 0.8, 0.8, 0.8, 0.8, 0.7, 0.7, 0.6, 0.6, 0.6, 0.6, 0.6, 0.6, 0.6, 0.6, 0.6, 0.5, 0.5, 0.5, 0.5, 0.5, 0.5, 0.5, 0.5, 0.4, 0.4, 0.5, 0.4, 0.4, 0.4, 0.4, 0.4, 0.4, 0.4, 0.4, 0.4, 0.4, 0.4, 0.4, 0.4, 0.4, 0.4, 0.4, 0.4, 0.4, 0.4, 0.4, 0.4, 0.4, 0.4]\n",
      "[35, 70, 70, 105, 105, 105, 140, 140, 175, 175, 210, 210, 210, 245, 245, 280, 280, 280, 315, 315, 350, 350, 385, 385, 385, 420, 420, 455, 455, 490, 490, 490, 525, 525, 560, 560, 595, 595, 595, 630, 630, 665, 665, 700, 700, 700, 735, 735, 770, 770, 805, 805, 805, 840, 840, 875, 875, 910, 910]\n"
     ]
    }
   ],
   "source": [
    "print(percent_hg_discarded)\n",
    "print(met_from_hb)"
   ]
  },
  {
   "cell_type": "code",
   "execution_count": 42,
   "id": "91ac4a72-6b31-4425-b114-74b685834c3c",
   "metadata": {},
   "outputs": [
    {
     "data": {
      "image/png": "[encoded data removed]",
      "text/plain": [
       "<Figure size 640x480 with 1 Axes>"
      ]
     },
     "metadata": {},
     "output_type": "display_data"
    }
   ],
   "source": [
    "plt.figure()\n",
    "plt.plot(met_from_hb, percent_hg_discarded)\n",
    "plt.xlabel('mission elapsed time [s]')\n",
    "plt.ylabel('% HG hits discarded')\n",
    "plt.title('HG hits discarded over run 30198')\n",
    "plt.yscale('log')\n",
    "\n",
    "log_ticks = [0.1, 0.2, 0.3, 0.4, 0.5, 1, 2, 5, 6]  # Example values for log scale\n",
    "plt.yticks(log_ticks, labels=[str(tick) for tick in log_ticks])\n",
    "plt.savefig('/Users/gracetytus/Downloads/run30198_droppedHG.png')\n",
    "plt.show()"
   ]
  },
  {
   "cell_type": "code",
   "execution_count": 45,
   "id": "5a1e392f-bfd8-407e-bddd-193769788ef1",
   "metadata": {},
   "outputs": [
    {
     "data": {
      "text/plain": [
       "np.float64(0.4246450304259635)"
      ]
     },
     "execution_count": 45,
     "metadata": {},
     "output_type": "execute_result"
    }
   ],
   "source": [
    "np.average(percent_hg_discarded)"
   ]
  },
  {
   "cell_type": "code",
   "execution_count": null,
   "id": "4e74840d-f4f1-4694-9dd1-8e22bf71050b",
   "metadata": {},
   "outputs": [],
   "source": []
  }
 ],
 "metadata": {
  "kernelspec": {
   "display_name": "Python 3 (ipykernel)",
   "language": "python",
   "name": "python3"
  },
  "language_info": {
   "codemirror_mode": {
    "name": "ipython",
    "version": 3
   },
   "file_extension": ".py",
   "mimetype": "text/x-python",
   "name": "python",
   "nbconvert_exporter": "python",
   "pygments_lexer": "ipython3",
   "version": "3.12.6"
  }
 },
 "nbformat": 4,
 "nbformat_minor": 5
}
