{
 "cells": [
  {
   "cell_type": "code",
   "execution_count": 1,
   "id": "18132f13-6e82-43c6-9aac-49d822097bfe",
   "metadata": {},
   "outputs": [
    {
     "name": "stdout",
     "output_type": "stream",
     "text": [
      "Can't load CXX API! No module named 'gaps_tof'\n"
     ]
    }
   ],
   "source": [
    "import matplotlib\n",
    "import matplotlib.pyplot as plt\n",
    "import numpy as np\n",
    "from collections import defaultdict\n",
    "import sys\n",
    "from tqdm import tqdm\n",
    "import pathlib\n",
    "from pathlib import Path\n",
    "import contextlib\n",
    "import io\n",
    "import go_pybindings as go\n",
    "import gaps_online.db as db"
   ]
  },
  {
   "cell_type": "code",
   "execution_count": 2,
   "id": "0f37c257-0f56-4f6f-bf57-b6c13f460927",
   "metadata": {},
   "outputs": [],
   "source": [
    "plt.style.use('publication.rc')"
   ]
  },
  {
   "cell_type": "code",
   "execution_count": 4,
   "id": "59a784cd-8db4-4863-8ff9-fcd56b27a902",
   "metadata": {},
   "outputs": [
    {
     "name": "stderr",
     "output_type": "stream",
     "text": [
      "  0%|                                                   | 0/986 [00:00<?, ?it/s]"
     ]
    }
   ],
   "source": [
    "run_id = 30198\n",
    "f_names = ['/Users/gracetytus/gaps/met_analysis/intermediaries/output_'+ str(run_id) +'.txt']\n",
    "\n",
    "with open(f_names[0]) as in_file:\n",
    "    variables = next(in_file).strip().split(',')\n",
    "num_lines = -len(f_names)\n",
    "for name in f_names:\n",
    "    with open(name) as in_file:\n",
    "        num_lines += sum(1 for _ in in_file)\n",
    "data_dict = {}\n",
    "for var in variables:\n",
    "    data_dict[var] = np.zeros(num_lines)\n",
    "\n",
    "k = 0\n",
    "progress_bar = tqdm(total=num_lines)\n",
    "for name in f_names:\n",
    "    with open(name) as in_file:\n",
    "        next(in_file)\n",
    "        for line in in_file:\n",
    "            for j, dat in enumerate(line.strip().split(',')):\n",
    "                data_dict[variables[j]][k] = float(dat)\n",
    "            k += 1\n",
    "            progress_bar.update(1)"
   ]
  },
  {
   "cell_type": "code",
   "execution_count": 6,
   "id": "52d9dee7-cbf2-4ee3-9d07-1576817acd51",
   "metadata": {},
   "outputs": [],
   "source": [
    "dy_dx = np.gradient(data_dict['percent_dropped_hg'], data_dict['met'])\n",
    "\n",
    "threshold = 0.01\n",
    "\n",
    "try:\n",
    "    # Find the index where the derivative is close to zero\n",
    "    stable_idx = np.where((np.abs(dy_dx) < threshold))[0]\n",
    "except Exception as e: pass\n",
    "\n",
    "\n",
    "# The first occurrence of stability\n",
    "if len(stable_idx) > 0:\n",
    "    transition_point = [stable_idx[0]]"
   ]
  },
  {
   "cell_type": "code",
   "execution_count": 11,
   "id": "1fe6c322-007b-4e75-9f8a-f4e3ab58d4dc",
   "metadata": {},
   "outputs": [
    {
     "data": {
      "image/png": "[encoded data removed]",
      "text/plain": [
       "<Figure size 640x480 with 1 Axes>"
      ]
     },
     "metadata": {},
     "output_type": "display_data"
    }
   ],
   "source": [
    "te_timeout = 25\n",
    "\n",
    "fig, ax = plt.subplots()\n",
    "ax.plot(data_dict['met'], data_dict['percent_dropped_hg'])\n",
    "ax.set_title('\\\\% dropped HG hits over time: run ' + str(run_id))\n",
    "ax.set_xlabel('mission elapsed time [sec]')\n",
    "ax.set_ylabel('\\\\% dropped HG hits')\n",
    "ax.minorticks_on()\n",
    "\n",
    "table_data = [['\\\\% dropped HG stable [sec]', str(transition_point)], ['MTB timeout [sec]', str(te_timeout)]]\n",
    "\n",
    "table = ax.table(cellText=table_data,\n",
    "                 cellLoc='center',\n",
    "                 loc='upper right')\n",
    "\n",
    "table.auto_set_font_size(False)\n",
    "table.set_fontsize(8)\n",
    "table.scale(1.0, 1.0)\n",
    "\n",
    "num_rows, num_cols = len(table_data), len(table_data[0])\n",
    "\n",
    "for (row, col), cell in table.get_celld().items():\n",
    "    if row == -1 or col == -1:\n",
    "        continue\n",
    "\n",
    "    cell.set_height(0.08)\n",
    "\n",
    "    if col == 1:\n",
    "        cell.set_text_props(horizontalalignment='center', verticalalignment='center')\n",
    "        cell.set_width(0.1)\n",
    "    else: \n",
    "        cell.set_text_props(horizontalalignment='right', verticalalignment='center')\n",
    "        cell.set_width(0.35)\n",
    "        \n",
    "    cell.set_linewidth(0.5)\n",
    "plt.savefig(str(run_id) + 'droppedHG.pdf')"
   ]
  },
  {
   "cell_type": "code",
   "execution_count": null,
   "id": "73c2b46d-6e86-4b5d-b718-4d88afdd0776",
   "metadata": {},
   "outputs": [],
   "source": []
  }
 ],
 "metadata": {
  "kernelspec": {
   "display_name": "Python 3 (ipykernel)",
   "language": "python",
   "name": "python3"
  },
  "language_info": {
   "codemirror_mode": {
    "name": "ipython",
    "version": 3
   },
   "file_extension": ".py",
   "mimetype": "text/x-python",
   "name": "python",
   "nbconvert_exporter": "python",
   "pygments_lexer": "ipython3",
   "version": "3.12.6"
  }
 },
 "nbformat": 4,
 "nbformat_minor": 5
}
