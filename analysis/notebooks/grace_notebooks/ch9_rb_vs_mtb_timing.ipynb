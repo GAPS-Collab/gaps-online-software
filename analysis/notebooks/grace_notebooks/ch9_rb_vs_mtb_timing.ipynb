{
 "cells": [
  {
   "cell_type": "code",
   "execution_count": null,
   "id": "0",
   "metadata": {},
   "outputs": [],
   "source": [
    "import gaps_online as go\n",
    "import charmingbeauty as cb\n",
    "import rust_dataclasses as rd\n",
    "import charmingbeauty.layout as lo\n",
    "import tqdm\n",
    "import re\n",
    "#import HErmes.fitting.model as m\n",
    "#import dashi as d\n",
    "#d.visual()\n",
    "\n",
    "from glob import glob\n",
    "from pathlib import Path\n",
    "from copy import deepcopy as copy\n"
   ]
  },
  {
   "cell_type": "code",
   "execution_count": null,
   "id": "1",
   "metadata": {
    "jupyter": {
     "outputs_hidden": true
    }
   },
   "outputs": [],
   "source": [
    "tofevents = []\n",
    "fixed_path = \"/data1/nextcloud/cra_data/data/2023_nevis/tof/121/Run121\"\n",
    "\n",
    "#data = \"/data1/nextcloud/cra_data/data/2023_nevis/tof/121/Run121_1.2024_03_05-09_47_33.tof.gaps\"\n",
    "files = glob(f'{fixed_path}_*.tof.gaps')\n",
    "print(len(files))\n",
    "\n",
    "\n",
    "\n",
    "for fname in files[:20]:\n",
    "    data = go.tof.get_tofpackets(fname, filter=go.cxx_api.PacketType.TofEvent)\n",
    "    evts = [go.cxx_api.TofEvent.from_tofpacket(k) for k in data]\n",
    "    tofevents.extend(evts)"
   ]
  },
  {
   "cell_type": "code",
   "execution_count": null,
   "id": "2",
   "metadata": {},
   "outputs": [],
   "source": [
    "# tofevents = []\n",
    "# fixed_path = \"/data1/nextcloud/cra_data/data/2023_nevis/tof/121/Run121\"\n",
    "\n",
    "# #data = \"/data1/nextcloud/cra_data/data/2023_nevis/tof/121/Run121_1.2024_03_05-09_47_33.tof.gaps\"\n",
    "# files = glob(f'{fixed_path}_*.tof.gaps')\n",
    "# print(len(files))\n",
    "\n",
    "# for fname in files:\n",
    "#     data = go.tof.get_tofpackets(fname, filter=go.cxx_api.PacketType.TofEvent)\n",
    "#     evts = [go.cxx_api.TofEvent.from_tofpacket(k) for k in data]\n",
    "#     tofevents.extend(evts)\n",
    "# print(len(files))\n"
   ]
  },
  {
   "cell_type": "code",
   "execution_count": null,
   "id": "3",
   "metadata": {},
   "outputs": [],
   "source": [
    "tofevents = []\n",
    "file = \"/data1/nextcloud/cra_data/data/2023_nevis/tof/121/Run121_100.2024_03_05-10_01_53.tof.gaps\"\n",
    "\n",
    "#data = \"/data1/nextcloud/cra_data/data/2023_nevis/tof/121/Run121_1.2024_03_05-09_47_33.tof.gaps\"\n",
    "# Use glob to search for files matching the pattern\n",
    "\n",
    "\n",
    "data = go.tof.get_tofpackets(file, filter=go.cxx_api.PacketType.TofEvent)\n",
    "evts = [go.cxx_api.TofEvent.from_tofpacket(k) for k in data]\n",
    "tofevents.extend(evts)\n",
    "print(len(tofevents))"
   ]
  },
  {
   "cell_type": "code",
   "execution_count": null,
   "id": "4",
   "metadata": {},
   "outputs": [],
   "source": [
    "# delta_ts = []\n",
    "# for ev in tofevents:\n",
    "    \n",
    "#     for rb in ev.get_rbids():\n",
    "#         rb_event = ev.get_rbevent(rb)\n",
    "#         rbs = ev.get_rbids\n",
    "#         rb_time = rb_event.header.get_timestamp48()\n",
    "#         mt_time = ev.mt_event.timestamp\n",
    "#         delta = rb_time - mt_time\n",
    "#         delta_ts.append(delta)\n",
    "\n",
    "        \n",
    "        "
   ]
  },
  {
   "cell_type": "code",
   "execution_count": null,
   "id": "5",
   "metadata": {},
   "outputs": [],
   "source": [
    "tofevents[0].get_rbids()\n"
   ]
  },
  {
   "cell_type": "code",
   "execution_count": null,
   "id": "6",
   "metadata": {},
   "outputs": [],
   "source": [
    "\n",
    "# for garbagevar in range(len(tofevents)):\n",
    "    \n",
    "#     event = tofevents[garbagevar]\n",
    "#     rbs = event.get_rbids()\n",
    "#     delta_ts = {k : [] for k in rbs}\n",
    "#     for rb in rbs:\n",
    "#             rb_event = event.get_rbevent(rb)\n",
    "#             delta_ts[rb].append(rb_event.header.get_timestamp48() - event.mt_event.timestamp)"
   ]
  },
  {
   "cell_type": "code",
   "execution_count": null,
   "id": "7",
   "metadata": {},
   "outputs": [],
   "source": [
    "delta_ts = {}\n",
    "for garbagevar in range(len(tofevents)):\n",
    "    \n",
    "    event = tofevents[garbagevar]\n",
    "    rbs = event.get_rbids()\n",
    "    for rb in rbs:\n",
    "        if rb not in delta_ts:\n",
    "            delta_ts[rb] = []  # Initialize the list if rb is encountered for the first time\n",
    "        rb_event = event.get_rbevent(rb)\n",
    "        delta_ts[rb].append(rb_event.header.get_timestamp48() - event.mt_event.timestamp)\n"
   ]
  },
  {
   "cell_type": "code",
   "execution_count": null,
   "id": "8",
   "metadata": {},
   "outputs": [],
   "source": [
    "import matplotlib.pyplot as plt\n",
    "import numpy as np\n",
    "from matplotlib.ticker import FuncFormatter\n",
    "\n",
    "def format_ticks(x, pos):\n",
    "    return '{:.0f}'.format(x)\n",
    "\n",
    "\n",
    "for rb, values in delta_ts.items():\n",
    "    plt.figure()  # Create a new figure for each rb\n",
    "    plt.hist(values, bins=15, alpha=0.5)\n",
    "    # Add labels and title\n",
    "    plt.xlabel(r'$\\Delta t$')\n",
    "    plt.ylabel('count')\n",
    "    plt.title(f'time difference between RB {rb} timestamp and MTB timestamp')\n",
    "\n",
    "\n",
    "    min_val = min(values)\n",
    "    max_val = max(values)\n",
    "    plt.gca().xaxis.set_major_formatter(FuncFormatter(format_ticks))\n",
    "    plt.xticks(rotation=45) \n",
    "    plt.xticks(fontsize=8)\n",
    "    \n",
    "\n",
    "# Show the plot\n",
    "plt.show()"
   ]
  },
  {
   "cell_type": "code",
   "execution_count": null,
   "id": "9",
   "metadata": {},
   "outputs": [],
   "source": []
  }
 ],
 "metadata": {
  "kernelspec": {
   "display_name": "Python 3 (ipykernel)",
   "language": "python",
   "name": "python3"
  },
  "language_info": {
   "codemirror_mode": {
    "name": "ipython",
    "version": 3
   },
   "file_extension": ".py",
   "mimetype": "text/x-python",
   "name": "python",
   "nbconvert_exporter": "python",
   "pygments_lexer": "ipython3",
   "version": "3.10.12"
  }
 },
 "nbformat": 4,
 "nbformat_minor": 5
}
