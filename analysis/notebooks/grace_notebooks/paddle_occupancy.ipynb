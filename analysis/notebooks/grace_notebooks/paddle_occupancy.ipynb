{
 "cells": [
  {
   "cell_type": "code",
   "execution_count": null,
   "id": "0",
   "metadata": {},
   "outputs": [],
   "source": [
    "import gaps_online as go\n",
    "import gaps_online.db as db\n",
    "import re\n",
    "from glob import glob\n",
    "import numpy as np\n",
    "import math\n",
    "from collections import defaultdict\n",
    "import matplotlib.pyplot as plt\n",
    "from tqdm.notebook import tqdm\n",
    "from pathlib import Path \n",
    "import os"
   ]
  },
  {
   "cell_type": "code",
   "execution_count": null,
   "id": "1",
   "metadata": {},
   "outputs": [],
   "source": [
    "#load calibrations\n",
    "calib = go.tof.calibrations.load_calibrations(Path('/data1/nextcloud/cra_data/data/2023_nevis/tof/calibration/2024_03_12/'))\n",
    "\n",
    "if len(calib.keys()) != 40: print('Oh no! Some calibrations are missing :(')\n",
    "else: print('Yay! All calibration files were loaded :)')"
   ]
  },
  {
   "cell_type": "code",
   "execution_count": null,
   "id": "2",
   "metadata": {},
   "outputs": [],
   "source": [
    "#get size of a file or set of files\n",
    "\n",
    "def get_file_size_in_gb(file_path):\n",
    "    size_in_bytes = os.path.getsize(file_path)\n",
    "    size_in_gb = size_in_bytes / (1024**3)  # Convert bytes to gigabytes\n",
    "    return size_in_gb"
   ]
  },
  {
   "cell_type": "code",
   "execution_count": null,
   "id": "3",
   "metadata": {},
   "outputs": [],
   "source": [
    "#load paths and populate empty data structures for later use\n",
    "\n",
    "max_pulse_dict = defaultdict(list)\n",
    "max_pulses = []\n",
    "\n",
    "tof_events = []\n",
    "fixed_path = \"/data1/nextcloud/cra_data/data/2023_nevis/tof/142/Run142\"\n",
    "\n",
    "\n",
    "files = glob(f'{fixed_path}_*.tof.gaps')\n",
    "#files = files [-5:]\n",
    "print(len(files)) #checking to make sure files was populated"
   ]
  },
  {
   "cell_type": "code",
   "execution_count": null,
   "id": "4",
   "metadata": {
    "jupyter": {
     "source_hidden": true
    }
   },
   "outputs": [],
   "source": [
    "#basic method to acquire paddle id\n",
    "paddle_ids = []\n",
    "for fname in tqdm(files[-2:]):\n",
    "    data = go.tof.get_tofpackets(fname, filter=go.cxx_api.PacketType.TofEvent)\n",
    "    \n",
    "    for ev in (go.cxx_api.TofEvent.from_tofpacket(k) for k in data):\n",
    "        for rb in ev.get_rbids():\n",
    "            rb_ev = ev.get_rbevent(rb)\n",
    "            for h in rb_ev.hits:\n",
    "                paddle_id = h.paddle_id\n",
    "                paddle_ids.append(paddle_id)"
   ]
  },
  {
   "cell_type": "code",
   "execution_count": null,
   "id": "5",
   "metadata": {},
   "outputs": [],
   "source": [
    "def generate_paddle_ids(files):\n",
    "    for fname in tqdm(files):\n",
    "        data = go.tof.get_tofpackets(fname, filter=go.cxx_api.PacketType.TofEvent)\n",
    "        for ev in (go.cxx_api.TofEvent.from_tofpacket(k) for k in data):\n",
    "            for rb in ev.get_rbids():\n",
    "                rb_ev = ev.get_rbevent(rb)\n",
    "                for h in rb_ev.hits:\n",
    "                    paddle_id = h.paddle_id\n",
    "                    yield paddle_id"
   ]
  },
  {
   "cell_type": "code",
   "execution_count": null,
   "id": "6",
   "metadata": {
    "jupyter": {
     "outputs_hidden": true,
     "source_hidden": true
    }
   },
   "outputs": [],
   "source": [
    "#not sorted by location\n",
    "paddle_id_list = []\n",
    "\n",
    "for paddle_id in generate_paddle_ids(files):\n",
    "    paddle_id_list.append(paddle_id)\n",
    "\n",
    "plt.hist(paddle_ids)\n",
    "plt.title('Paddle Occupancy')\n",
    "plt.xlabel('paddle_id')\n",
    "plt.ylabel('count')\n",
    "plt.show()"
   ]
  },
  {
   "cell_type": "code",
   "execution_count": null,
   "id": "7",
   "metadata": {},
   "outputs": [],
   "source": [
    "cube_top = range(1, 13)\n",
    "cube_bottom = range(13, 25)\n",
    "cube_side = range(25, 57)\n",
    "corner = range(57, 61)\n",
    "cortina = range(109, 161)\n",
    "umbrella = range(61, 109)\n",
    "\n",
    "# cube_all = []\n",
    "# cube_all.extend(cube_top)\n",
    "# cube_all.extend(cube_bottom)\n",
    "# cube_all.extend(corner)"
   ]
  },
  {
   "cell_type": "code",
   "execution_count": null,
   "id": "8",
   "metadata": {},
   "outputs": [],
   "source": [
    "# cube_top_evts = []\n",
    "# cube_bottom_evts = []\n",
    "# cube_side_evts = []\n",
    "# corner_evts = []\n",
    "cortina_evts = []\n",
    "# umbrella_evts = []\n",
    "\n",
    "for paddle_id in generate_paddle_ids(files):\n",
    "    if paddle_id in cube_top:\n",
    "        #cube_top_evts.append(paddle_id)\n",
    "        continue\n",
    "    elif paddle_id in cube_bottom:\n",
    "        continue\n",
    "        #cube_bottom_evts.append(paddle_id)\n",
    "    elif paddle_id in cube_side:\n",
    "        continue\n",
    "        #cube_side_evts.append(paddle_id)\n",
    "    elif paddle_id in corner:\n",
    "        continue\n",
    "        #corner_evts.append(paddle_id)\n",
    "    elif paddle_id in cortina:\n",
    "        cortina_evts.append(paddle_id)\n",
    "    elif paddle_id in umbrella:\n",
    "        continue\n",
    "        #umbrella_evts.append(paddle_id)"
   ]
  },
  {
   "cell_type": "code",
   "execution_count": null,
   "id": "9",
   "metadata": {
    "jupyter": {
     "outputs_hidden": true
    }
   },
   "outputs": [],
   "source": [
    "lists = [cube_top_evts, cube_bottom_evts, cube_side_evts, corner_evts, cortina_evts, umbrella_evts]\n",
    "labels = ['Cube Top', 'Cube Bottom', 'Cube Side', 'Corner', 'Cortina', 'Umbrella']\n",
    "\n",
    "# Create a figure with subplots\n",
    "fig, axes = plt.subplots(nrows=len(lists), figsize=(8, 6))\n",
    "\n",
    "# Plot histograms for each list\n",
    "for ax, data, label in zip(axes, lists, labels):\n",
    "    ax.hist(data)  # Adjust the number of bins as needed\n",
    "    ax.set_title(label)\n",
    "    ax.set_xlabel('paddle_id')\n",
    "    ax.set_ylabel('count')\n",
    "\n",
    "# Adjust layout\n",
    "plt.tight_layout()\n",
    "\n",
    "# Show the plot\n",
    "plt.show()\n"
   ]
  },
  {
   "cell_type": "code",
   "execution_count": null,
   "id": "10",
   "metadata": {
    "jupyter": {
     "outputs_hidden": true,
     "source_hidden": true
    }
   },
   "outputs": [],
   "source": [
    "panels = []\n",
    "\n",
    "all_paddles = db.tof_paddle_manifest()\n",
    "\n",
    "for paddle_id in generate_paddle_ids(files):\n",
    "    panel = all_paddles[paddle_id]['panel'].panel_id\n",
    "    panels.append(panel)"
   ]
  },
  {
   "cell_type": "code",
   "execution_count": null,
   "id": "11",
   "metadata": {},
   "outputs": [],
   "source": [
    "\n",
    "\n",
    "plt.hist(cube_top_evts)\n",
    "plt.title('Cube Top')\n",
    "plt.xlabel('paddle_id')\n",
    "plt.ylabel('count')\n",
    "plt.show()"
   ]
  },
  {
   "cell_type": "code",
   "execution_count": null,
   "id": "12",
   "metadata": {},
   "outputs": [],
   "source": [
    "plt.hist(cube_side_evts)\n",
    "plt.title('Cube Side')\n",
    "plt.xlabel('paddle_id')\n",
    "plt.ylabel('count')\n",
    "plt.show()"
   ]
  },
  {
   "cell_type": "code",
   "execution_count": null,
   "id": "13",
   "metadata": {},
   "outputs": [],
   "source": [
    "plt.hist(cube_bottom_evts)\n",
    "plt.title('Cube Bottom')\n",
    "plt.xlabel('paddle_id')\n",
    "plt.ylabel('count')\n",
    "plt.show()"
   ]
  },
  {
   "cell_type": "code",
   "execution_count": null,
   "id": "14",
   "metadata": {},
   "outputs": [],
   "source": [
    "plt.hist(corner_evts)\n",
    "plt.title('Corner')\n",
    "plt.xlabel('paddle_id')\n",
    "plt.ylabel('count')\n",
    "plt.xticks(np.arange(57, 61, 1))\n",
    "plt.show()"
   ]
  },
  {
   "cell_type": "code",
   "execution_count": null,
   "id": "15",
   "metadata": {},
   "outputs": [],
   "source": [
    "\n",
    "\n",
    "plt.hist(cortina_evts, bins = 50)\n",
    "plt.title('Cortina')\n",
    "plt.xlabel('paddle_id')\n",
    "plt.ylabel('count')\n",
    "plt.xlim(110, 160)\n",
    "\n",
    "# Set ticks for every value\n",
    "plt.xticks(np.arange(110, 161, 1))\n",
    "plt.gca().set_xticklabels([int(x) if x % 10 == 0 else '' for x in plt.gca().get_xticks()])\n",
    "\n",
    "\n",
    "plt.show()\n"
   ]
  },
  {
   "cell_type": "code",
   "execution_count": null,
   "id": "16",
   "metadata": {},
   "outputs": [],
   "source": [
    "plt.hist(umbrella_evts)\n",
    "plt.title('Umbrella')\n",
    "plt.xlabel('paddle_id')\n",
    "plt.ylabel('count')\n",
    "plt.show()"
   ]
  },
  {
   "cell_type": "code",
   "execution_count": null,
   "id": "17",
   "metadata": {},
   "outputs": [],
   "source": []
  }
 ],
 "metadata": {
  "kernelspec": {
   "display_name": "Python 3 (ipykernel)",
   "language": "python",
   "name": "python3"
  },
  "language_info": {
   "codemirror_mode": {
    "name": "ipython",
    "version": 3
   },
   "file_extension": ".py",
   "mimetype": "text/x-python",
   "name": "python",
   "nbconvert_exporter": "python",
   "pygments_lexer": "ipython3",
   "version": "3.10.12"
  }
 },
 "nbformat": 4,
 "nbformat_minor": 5
}
