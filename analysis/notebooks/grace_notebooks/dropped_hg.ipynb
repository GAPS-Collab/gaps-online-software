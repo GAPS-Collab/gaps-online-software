{
 "cells": [
  {
   "cell_type": "code",
   "execution_count": 3,
   "id": "8b785a40-73d5-45b4-894e-b69cabde3653",
   "metadata": {},
   "outputs": [],
   "source": [
    "import numpy as np\n",
    "import matplotlib.pyplot as plt\n",
    "from tqdm import tqdm\n"
   ]
  },
  {
   "cell_type": "code",
   "execution_count": 4,
   "id": "2a3f46a3-12f2-470e-9b9f-329668ef270e",
   "metadata": {},
   "outputs": [],
   "source": [
    "plt.style.use('publication.rc')"
   ]
  },
  {
   "cell_type": "code",
   "execution_count": 34,
   "id": "850d1731-5e97-4c3e-b1ba-e3e4df830eea",
   "metadata": {},
   "outputs": [],
   "source": [
    "run_id = 23\n",
    "f_names = ['/Users/gracetytus/gaps/checkouts/hg_dropped_'+ str(run_id) +'.txt']"
   ]
  },
  {
   "cell_type": "code",
   "execution_count": 35,
   "id": "b43671ff-ad45-44d9-b4dd-5616545f4c8d",
   "metadata": {},
   "outputs": [],
   "source": [
    "with open(f_names[0]) as in_file:\n",
    "    variables = next(in_file).strip().split(',')\n",
    "num_lines = -len(f_names)\n",
    "for name in f_names:\n",
    "    with open(name) as in_file:\n",
    "        num_lines += sum(1 for _ in in_file)\n",
    "data_dict = {}\n",
    "for var in variables:\n",
    "    data_dict[var] = np.zeros(num_lines)"
   ]
  },
  {
   "cell_type": "code",
   "execution_count": 36,
   "id": "a73e7513-a636-4f2e-afc9-a6df2ea21dd8",
   "metadata": {},
   "outputs": [
    {
     "name": "stderr",
     "output_type": "stream",
     "text": [
      "\n",
      "100%|████████████████████████████████████████████████████████████████████████████████████████████████████████████████████████████████████████████████████| 52/52 [12:18<00:00, 14.19s/it]\u001b[A\n"
     ]
    }
   ],
   "source": [
    "k = 0\n",
    "progress_bar = tqdm(total=num_lines)\n",
    "for name in f_names:\n",
    "    with open(name) as in_file:\n",
    "        next(in_file)\n",
    "        for line in in_file:\n",
    "            for j, dat in enumerate(line.strip().split(',')):\n",
    "                data_dict[variables[j]][k] = float(dat)\n",
    "            k += 1\n",
    "            progress_bar.update(1)"
   ]
  },
  {
   "cell_type": "code",
   "execution_count": 37,
   "id": "c205a963-5cee-4972-be8f-5e22734b3533",
   "metadata": {},
   "outputs": [
    {
     "name": "stderr",
     "output_type": "stream",
     "text": [
      "/Users/gracetytus/tof_python_env/lib/python3.12/site-packages/numpy/lib/_function_base_impl.py:1307: RuntimeWarning: divide by zero encountered in divide\n",
      "  a = -(dx2)/(dx1 * (dx1 + dx2))\n",
      "/Users/gracetytus/tof_python_env/lib/python3.12/site-packages/numpy/lib/_function_base_impl.py:1307: RuntimeWarning: invalid value encountered in divide\n",
      "  a = -(dx2)/(dx1 * (dx1 + dx2))\n",
      "/Users/gracetytus/tof_python_env/lib/python3.12/site-packages/numpy/lib/_function_base_impl.py:1308: RuntimeWarning: divide by zero encountered in divide\n",
      "  b = (dx2 - dx1) / (dx1 * dx2)\n",
      "/Users/gracetytus/tof_python_env/lib/python3.12/site-packages/numpy/lib/_function_base_impl.py:1308: RuntimeWarning: invalid value encountered in divide\n",
      "  b = (dx2 - dx1) / (dx1 * dx2)\n",
      "/Users/gracetytus/tof_python_env/lib/python3.12/site-packages/numpy/lib/_function_base_impl.py:1309: RuntimeWarning: divide by zero encountered in divide\n",
      "  c = dx1 / (dx2 * (dx1 + dx2))\n",
      "/Users/gracetytus/tof_python_env/lib/python3.12/site-packages/numpy/lib/_function_base_impl.py:1309: RuntimeWarning: invalid value encountered in divide\n",
      "  c = dx1 / (dx2 * (dx1 + dx2))\n",
      "/Users/gracetytus/tof_python_env/lib/python3.12/site-packages/numpy/lib/_function_base_impl.py:1315: RuntimeWarning: invalid value encountered in add\n",
      "  out[tuple(slice1)] = a * f[tuple(slice2)] + b * f[tuple(slice3)] + c * f[tuple(slice4)]\n",
      "/Users/gracetytus/tof_python_env/lib/python3.12/site-packages/numpy/lib/_function_base_impl.py:1324: RuntimeWarning: divide by zero encountered in scalar divide\n",
      "  out[tuple(slice1)] = (f[tuple(slice2)] - f[tuple(slice3)]) / dx_0\n"
     ]
    },
    {
     "ename": "NameError",
     "evalue": "name 'x' is not defined",
     "output_type": "error",
     "traceback": [
      "\u001b[0;31m---------------------------------------------------------------------------\u001b[0m",
      "\u001b[0;31mNameError\u001b[0m                                 Traceback (most recent call last)",
      "Cell \u001b[0;32mIn[37], line 13\u001b[0m\n\u001b[1;32m     11\u001b[0m \u001b[38;5;66;03m# The first occurrence of stability\u001b[39;00m\n\u001b[1;32m     12\u001b[0m \u001b[38;5;28;01mif\u001b[39;00m \u001b[38;5;28mlen\u001b[39m(stable_idx) \u001b[38;5;241m>\u001b[39m \u001b[38;5;241m0\u001b[39m:\n\u001b[0;32m---> 13\u001b[0m     transition_point \u001b[38;5;241m=\u001b[39m \u001b[43mx\u001b[49m[stable_idx[\u001b[38;5;241m0\u001b[39m]]\n",
      "\u001b[0;31mNameError\u001b[0m: name 'x' is not defined"
     ]
    }
   ],
   "source": [
    "dy_dx = np.gradient(data_dict['percent_dropped_hg'], data_dict['met'])\n",
    "\n",
    "threshold = 0.01\n",
    "\n",
    "try:\n",
    "    # Find the index where the derivative is close to zero\n",
    "    stable_idx = np.where((np.abs(dy_dx) < threshold))[0]\n",
    "except Exception as e: pass\n",
    "\n",
    "\n",
    "# The first occurrence of stability\n",
    "if len(stable_idx) > 0:\n",
    "    transition_point = x[stable_idx[0]]"
   ]
  },
  {
   "cell_type": "code",
   "execution_count": 39,
   "id": "8b7c27dd-2038-48fd-bc52-ac742c7fc42d",
   "metadata": {},
   "outputs": [
    {
     "data": {
      "image/png": "[encoded data removed]",
      "text/plain": [
       "<Figure size 640x480 with 1 Axes>"
      ]
     },
     "metadata": {},
     "output_type": "display_data"
    }
   ],
   "source": [
    "te_timeout = 7\n",
    "\n",
    "fig, ax = plt.subplots()\n",
    "ax.plot(data_dict['met'], data_dict['percent_dropped_hg'])\n",
    "ax.set_title('\\\\% dropped HG hits over time: run ' + str(run_id))\n",
    "ax.set_xlabel('mission elapsed time [sec]')\n",
    "ax.set_ylabel('\\\\% dropped HG hits')\n",
    "ax.minorticks_on()\n",
    "#ax.set_xlim(0, 500)\n",
    "\n",
    "table_data = [['\\\\% dropped HG stable [sec]', \"n/a\"], ['MTB timeout [sec]', str(te_timeout)]]\n",
    "\n",
    "table = ax.table(cellText=table_data,\n",
    "                 cellLoc='center',\n",
    "                 loc='upper right')\n",
    "\n",
    "table.auto_set_font_size(False)\n",
    "table.set_fontsize(8)\n",
    "table.scale(1.0, 1.0)\n",
    "\n",
    "num_rows, num_cols = len(table_data), len(table_data[0])\n",
    "\n",
    "for (row, col), cell in table.get_celld().items():\n",
    "    if row == -1 or col == -1:\n",
    "        continue\n",
    "\n",
    "    cell.set_height(0.08)\n",
    "\n",
    "    if col == 1:\n",
    "        cell.set_text_props(horizontalalignment='center', verticalalignment='center')\n",
    "        cell.set_width(0.1)\n",
    "    else: \n",
    "        cell.set_text_props(horizontalalignment='right', verticalalignment='center')\n",
    "        cell.set_width(0.35)\n",
    "        \n",
    "    cell.set_linewidth(0.5)"
   ]
  },
  {
   "cell_type": "code",
   "execution_count": 26,
   "id": "6a70367d-0967-4766-b3f1-5e7c2dfcd3da",
   "metadata": {},
   "outputs": [
    {
     "data": {
      "image/png": "[encoded data removed]",
      "text/plain": [
       "<Figure size 640x480 with 1 Axes>"
      ]
     },
     "metadata": {},
     "output_type": "display_data"
    }
   ],
   "source": [
    "te_timeout = 20\n",
    "indices = np.where(data_dict['met'] < 500)\n",
    "filtered_met = data_dict['met'][indices]\n",
    "filtered_percent_dropped_hg = data_dict['percent_dropped_hg'][indices]\n",
    "\n",
    "# Plot the filtered data\n",
    "fig, ax = plt.subplots()\n",
    "ax.plot(filtered_met, filtered_percent_dropped_hg)\n",
    "ax.set_title('\\\\% dropped HG hits over time: run ' + str(run_id))\n",
    "ax.set_xlabel('mission elapsed time [sec]')\n",
    "ax.set_ylabel('\\\\% dropped HG hits')\n",
    "ax.minorticks_on()\n",
    "\n",
    "table_data = [['\\\\% dropped HG stable [sec]', \"n/a\"], ['MTB timeout [sec]', str(te_timeout)]]\n",
    "\n",
    "table = ax.table(cellText=table_data,\n",
    "                 cellLoc='center',\n",
    "                 loc='upper right')\n",
    "\n",
    "table.auto_set_font_size(False)\n",
    "table.set_fontsize(8)\n",
    "table.scale(1.0, 1.0)\n",
    "\n",
    "num_rows, num_cols = len(table_data), len(table_data[0])\n",
    "\n",
    "for (row, col), cell in table.get_celld().items():\n",
    "    if row == -1 or col == -1:\n",
    "        continue\n",
    "\n",
    "    cell.set_height(0.08)\n",
    "\n",
    "    if col == 1:\n",
    "        cell.set_text_props(horizontalalignment='center', verticalalignment='center')\n",
    "        cell.set_width(0.1)\n",
    "    else: \n",
    "        cell.set_text_props(horizontalalignment='right', verticalalignment='center')\n",
    "        cell.set_width(0.35)\n",
    "        \n",
    "    cell.set_linewidth(0.5)"
   ]
  },
  {
   "cell_type": "code",
   "execution_count": null,
   "id": "84174762-e706-4b59-aa0f-1ef29dc0bc72",
   "metadata": {},
   "outputs": [],
   "source": []
  }
 ],
 "metadata": {
  "kernelspec": {
   "display_name": "Python 3 (ipykernel)",
   "language": "python",
   "name": "python3"
  },
  "language_info": {
   "codemirror_mode": {
    "name": "ipython",
    "version": 3
   },
   "file_extension": ".py",
   "mimetype": "text/x-python",
   "name": "python",
   "nbconvert_exporter": "python",
   "pygments_lexer": "ipython3",
   "version": "3.12.6"
  }
 },
 "nbformat": 4,
 "nbformat_minor": 5
}
