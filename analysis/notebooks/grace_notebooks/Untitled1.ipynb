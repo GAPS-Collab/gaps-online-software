{
 "cells": [
  {
   "cell_type": "code",
   "execution_count": null,
   "id": "0",
   "metadata": {},
   "outputs": [],
   "source": [
    "import matplotlib\n",
    "import matplotlib.pyplot as plt\n",
    "import numpy as np\n",
    "from collections import defaultdict\n",
    "import sys\n",
    "import tqdm\n",
    "import pathlib\n",
    "from pathlib import Path\n",
    "import io\n",
    "import contextlib\n",
    "import gaps_online as go\n",
    "import go_pybindings as gop\n",
    "import re\n",
    "from glob import glob\n",
    "import os"
   ]
  },
  {
   "cell_type": "code",
   "execution_count": null,
   "id": "1",
   "metadata": {},
   "outputs": [],
   "source": [
    "plt.style.use('publication.rc')"
   ]
  },
  {
   "cell_type": "code",
   "execution_count": null,
   "id": "2",
   "metadata": {},
   "outputs": [],
   "source": [
    "dataset = pathlib.Path(f'/Users/gracetytus/gaps/waveforms')\n",
    "files = [f for f in sorted(dataset.glob('*.tof.gaps'))]"
   ]
  },
  {
   "cell_type": "code",
   "execution_count": null,
   "id": "3",
   "metadata": {},
   "outputs": [],
   "source": [
    "paddle_map = {}\n",
    "with open(f'/Users/gracetytus/gaps/channel_mapping.csv') as in_file:\n",
    "    variables = next(in_file).strip().split(',')\n",
    "    next(in_file)\n",
    "    for line in in_file:\n",
    "        row = line.strip().split(',')\n",
    "        paddle_id = int(row[0])\n",
    "        paddle_map[paddle_id] = {'a':{'rb':0,'ch':0},'b':{'rb':0,'ch':0}}\n",
    "        rb, ch = [int(d) for d in row[9].split('-')]\n",
    "        paddle_map[paddle_id]['a']['rb'] = rb\n",
    "        paddle_map[paddle_id]['a']['ch'] = ch - 1\n",
    "\n",
    "        row = next(in_file).strip().split(',')\n",
    "        rb, ch = [int(d) for d in row[9].split('-')]\n",
    "        paddle_map[paddle_id]['b']['rb'] = rb\n",
    "        paddle_map[paddle_id]['b']['ch'] = ch - 1"
   ]
  },
  {
   "cell_type": "code",
   "execution_count": null,
   "id": "4",
   "metadata": {},
   "outputs": [],
   "source": [
    "pattern = re.compile(r'RB(\\d+)_\\d{6}_\\d{6}UTC\\.cali\\.tof\\.gaps')\n",
    "calibrations = glob('/Users/gracetytus/gaps/waveforms/calibrations/240808_220952UTC/*.cali.tof.gaps')\n",
    "\n",
    "calib = {}\n",
    "\n",
    "for fname in calibrations:\n",
    "    match = pattern.search(fname)\n",
    "    if match:\n",
    "        rbid = match.group(1)\n",
    "        cali = gop.events.RBCalibration()\n",
    "        cali.from_file(fname)  # Modify the instance\n",
    "        calib[int(rbid)] = cali      # Store the modified instance\n",
    "    else:\n",
    "        print(\"No match found for:\", fname)\n",
    "\n",
    "print(calib)"
   ]
  },
  {
   "cell_type": "code",
   "execution_count": null,
   "id": "5",
   "metadata": {},
   "outputs": [],
   "source": [
    "waveform_a         = []\n",
    "waveform_b         = []\n",
    "time_a             = []\n",
    "time_b             = []\n",
    "q_a                = []\n",
    "q_b                = []\n",
    "v_a                = []\n",
    "v_b                = []\n",
    "\n",
    "with contextlib.redirect_stderr(io.StringIO()):\n",
    "    #for f in tqdm.tqdm(files, desc=\"Processing files\", unit=\"file\", file=sys.stdout):\n",
    "    for f in files:\n",
    "        reader = go.rust_api.io.TofPacketReader(str(f), filter=go.rust_api.io.PacketType.TofEvent)\n",
    "        settings = go.liftof.LiftofSettings()\n",
    "        settings = settings.from_file('/Users/gracetytus/gaps/waveforms/run134.toml')\n",
    "\n",
    "        n_packets = 0\n",
    "        for pack in reader:\n",
    "            n_packets += 1\n",
    "\n",
    "        reader.rewind()\n",
    "    \n",
    "        for pack in tqdm.tqdm(reader, total=n_packets, file=sys.stdout, position=0):\n",
    "            ev = go.rust_api.events.TofEvent()\n",
    "            new_ev = go.liftof.waveform_analysis(ev, settings)\n",
    "\n",
    "            try:\n",
    "                ev.from_tofpacket(pack)\n",
    "                \n",
    "            except Exception as e:\n",
    "                print(f\"Error at hit {x}: {e}\")\n",
    "                pass\n",
    "                continue\n",
    "\n",
    "            for x in range(len(new_ev.hits)):\n",
    "                try: \n",
    "                    paddle = int(new_ev.hits[x].paddle_id)\n",
    "\n",
    "                    if new_ev.hits[x].charge_a == 0 or new_ev.hits[x].charge_b == 0:\n",
    "                        continue\n",
    "\n",
    "                    q = new_ev.hits[x].charge_a\n",
    "                    v = new_ev.hits[x].peak_a\n",
    "                    t = new_ev.hits[x].time_a\n",
    "\n",
    "                    rb = paddle_map[paddle]['a']['rb']\n",
    "                    ch = paddle_map[paddle]['a']['ch']\n",
    "                    if ch == 8: continue\n",
    "                    for waveform in new_ev.waveforms:\n",
    "                        if waveform.rb_id == rb and waveform.rb_channel == ch:\n",
    "                            waveform.calibrate(calib[rb])\n",
    "                            waveform.apply_spike_filter()\n",
    "                            waveform_a.append(waveform.voltages)\n",
    "                            time_a.append(t)\n",
    "                            q_a.append(q)\n",
    "                            v_a.append(v)\n",
    "                            break\n",
    "                    \n",
    "                    q = new_ev.hits[x].charge_b\n",
    "                    v = new_ev.hits[x].peak_b\n",
    "                    t = new_ev.hits[x].time_b\n",
    "                    \n",
    "                    rb = paddle_map[paddle]['b']['rb']\n",
    "                    ch = paddle_map[paddle]['b']['ch']\n",
    "                    if ch == 8: continue\n",
    "                    for waveform in new_ev.waveforms:\n",
    "                        if waveform.rb_id == rb and waveform.rb_channel == ch:\n",
    "                            waveform.calibrate(calib[rb])\n",
    "                            waveform.apply_spike_filter()\n",
    "                            waveform_b.append(waveform.voltages)\n",
    "                            time_b.append(t)\n",
    "                            q_b.append(q)\n",
    "                            v_b.append(v)\n",
    "                            break\n",
    "                except Exception as e:\n",
    "                    print(f\"Error at hit {x}: {e}\")\n",
    "                    continue\n",
    "                    \n",
    "waveform_a = np.array(waveform_a)\n",
    "waveform_b = np.array(waveform_b)\n",
    "time_a = np.array(time_a)\n",
    "time_b = np.array(time_b)\n",
    "q_a = np.array(q_a)\n",
    "q_b = np.array(q_b)\n",
    "v_a = np.array(v_a)\n",
    "v_b = np.array(v_b)"
   ]
  },
  {
   "cell_type": "code",
   "execution_count": null,
   "id": "6",
   "metadata": {
    "jupyter": {
     "outputs_hidden": true
    }
   },
   "outputs": [],
   "source": [
    "for in range(100):\n",
    "    plt.plot(waveform_a[x])\n",
    "    plt.ylim(0, 200)\n",
    "    plt.show()"
   ]
  },
  {
   "cell_type": "code",
   "execution_count": null,
   "id": "7",
   "metadata": {},
   "outputs": [],
   "source": [
    "fig, (ax_3, ax_6) = plt.subplots(1,2, figsize = (14,7))\n",
    "\n",
    "x = np.arange(0,len(waveform_a[0]), 1)\n",
    "\n",
    "for wf, ratio in zip(waveform_a, peak_over_charge_a):\n",
    "    if ratio < 3.2 and np.all(wf > -200):\n",
    "        ax_3.plot(x-np.argmax(wf), wf, lw=0.5, alpha=0.25, color = 'navy')\n",
    "        ax_3.set_title('Waveforms with p/c ratio ~3')\n",
    "        ax_3.set_xlabel('bins')\n",
    "        ax_3.set_ylabel('voltage [mV]')\n",
    "        ax_3.minorticks_on()\n",
    "    elif ratio > 5.8 and np.all(wf > -200):\n",
    "        ax_6.plot(x-np.argmax(wf), wf, lw=0.5, alpha=0.25, color = 'navy')\n",
    "        ax_6.set_title('Waveforms with p/c ratio ~6')\n",
    "        ax_6.set_xlabel('bins')\n",
    "        ax_6.set_ylabel('voltage [mV]')\n",
    "        ax_6.minorticks_on()\n",
    "plt.savefig('/Users/gracetytus/Downloads/composite_clean.pdf')"
   ]
  },
  {
   "cell_type": "code",
   "execution_count": null,
   "id": "8",
   "metadata": {},
   "outputs": [],
   "source": [
    "\n",
    "mean_wf = np.mean(waveform_a[peak_over_charge_a < 3.2], axis=0)"
   ]
  },
  {
   "cell_type": "code",
   "execution_count": null,
   "id": "9",
   "metadata": {},
   "outputs": [],
   "source": [
    "mean_wf = np.mean(waveform_a[peak_over_charge_a < 3.2], axis=0)\n",
    "plt.plot(mean_wf[1:], label = r'$\\frac{p}{c} \\approx 3$')\n",
    "mean_wf = np.mean(waveform_a[peak_over_charge_a > 5.8], axis=0)\n",
    "plt.plot(mean_wf[1:], label = r'$\\frac{p}{c} \\approx 6$')\n",
    "plt.xlabel('bins')\n",
    "plt.ylabel('voltage [mV]')\n",
    "plt.legend()\n",
    "plt.title('Avg. waveforms')\n",
    "plt.savefig('/Users/gracetytus/Downloads/avgwf.png')"
   ]
  },
  {
   "cell_type": "code",
   "execution_count": null,
   "id": "10",
   "metadata": {},
   "outputs": [],
   "source": [
    "plt.plot(mean_wf)\n",
    "plt.title('avg. waveform in region p/c ~3')\n",
    "plt.xlabel('bins')\n",
    "plt.ylabel('voltage [mV]')\n",
    "plt.ylim\n",
    "plt.savefig('/Users/gracetytus/Downloads/avg3.png')"
   ]
  },
  {
   "cell_type": "code",
   "execution_count": null,
   "id": "11",
   "metadata": {},
   "outputs": [],
   "source": [
    "mean_wf = np.mean(waveform_a[peak_over_charge_a > 5.8], axis=0)"
   ]
  },
  {
   "cell_type": "code",
   "execution_count": null,
   "id": "12",
   "metadata": {},
   "outputs": [],
   "source": [
    "plt.plot(mean_wf)\n",
    "plt.title('avg. waveform in region p/c ~6')\n",
    "plt.xlabel('bins')\n",
    "plt.ylim(0, 30)\n",
    "plt.ylabel('voltage [mV]')\n",
    "plt.savefig('/Users/gracetytus/Downloads/avg6.png')"
   ]
  },
  {
   "cell_type": "code",
   "execution_count": null,
   "id": "13",
   "metadata": {},
   "outputs": [],
   "source": [
    "peak_over_charge_a = np.array(peak_over_charge_a)"
   ]
  },
  {
   "cell_type": "code",
   "execution_count": null,
   "id": "14",
   "metadata": {},
   "outputs": [],
   "source": [
    "(ratio > 2.8 and ratio < 3.2) or (ratio > 4.4 and ratio < 4.6) or (ratio > 5.8 and ratio < 6.2)"
   ]
  },
  {
   "cell_type": "code",
   "execution_count": null,
   "id": "15",
   "metadata": {},
   "outputs": [],
   "source": [
    "_ = plt.hist(peak_over_charge_a, bins='auto')"
   ]
  },
  {
   "cell_type": "code",
   "execution_count": null,
   "id": "16",
   "metadata": {},
   "outputs": [],
   "source": [
    "_ = plt.hist(peak_over_charge_a[np.all(waveform_a>-200, axis=1)], bins='auto')"
   ]
  },
  {
   "cell_type": "code",
   "execution_count": null,
   "id": "17",
   "metadata": {},
   "outputs": [],
   "source": [
    "diff = time_a - time_b\n",
    "plt.hist(diff)"
   ]
  },
  {
   "cell_type": "code",
   "execution_count": null,
   "id": "18",
   "metadata": {},
   "outputs": [],
   "source": [
    "t_diff = []\n",
    "ratio = []\n",
    "for x in range(len(time_a)):\n",
    "    if q_a[x] == 0: continue\n",
    "    t = time_a[x] - time_b[x]\n",
    "    r = v_a[x] / q_a[x] \n",
    "    t_diff.append(t)\n",
    "    ratio.append(r)\n",
    "    plt.plot(waveform_a[x])\n",
    "    plt.show()"
   ]
  },
  {
   "cell_type": "code",
   "execution_count": null,
   "id": "19",
   "metadata": {},
   "outputs": [],
   "source": [
    "t_diff = np.abs(t_diff)\n",
    "\n",
    "plt.hist2d(ratio, t_diff, bins = (200, 200), cmap=plt.cm.gnuplot2)\n",
    "plt.xlabel('ratio peak to charge')\n",
    "plt.ylabel('time_a - time_b')\n",
    "plt.title('comparison with ratio from a side')\n",
    "plt.ylim(0, 20)\n",
    "plt.xlim(2, 8)\n",
    "plt.colorbar()\n",
    "plt.show()\n",
    "#plt.savefig('/Users/gracetytus/Downloads/2d_sidea.png')"
   ]
  },
  {
   "cell_type": "code",
   "execution_count": null,
   "id": "20",
   "metadata": {},
   "outputs": [],
   "source": []
  },
  {
   "cell_type": "code",
   "execution_count": null,
   "id": "21",
   "metadata": {},
   "outputs": [],
   "source": [
    "_ = plt.hist(peak_over_charge_a[np.any(waveform_a<-200, axis=1)], bins='auto')\n",
    "plt.title('distribution of data mangled events')\n",
    "plt.xlabel('peak / charge')\n",
    "plt.ylabel('n')\n",
    "plt.savefig('/Users/gracetytus/Downloads/mangled_dist.png')"
   ]
  },
  {
   "cell_type": "code",
   "execution_count": null,
   "id": "22",
   "metadata": {},
   "outputs": [],
   "source": [
    "len(waveform_a)"
   ]
  },
  {
   "cell_type": "code",
   "execution_count": null,
   "id": "23",
   "metadata": {},
   "outputs": [],
   "source": [
    "waveform_a>-200"
   ]
  },
  {
   "cell_type": "code",
   "execution_count": null,
   "id": "24",
   "metadata": {},
   "outputs": [],
   "source": [
    "np.sum(np.any(waveform_a<-200, axis=1))"
   ]
  },
  {
   "cell_type": "code",
   "execution_count": null,
   "id": "25",
   "metadata": {},
   "outputs": [],
   "source": [
    "total = 0\n",
    "for wf in waveform_a:\n",
    "    if np.any(wf<-200):\n",
    "        total += 1"
   ]
  },
  {
   "cell_type": "code",
   "execution_count": null,
   "id": "26",
   "metadata": {},
   "outputs": [],
   "source": [
    "total"
   ]
  },
  {
   "cell_type": "code",
   "execution_count": null,
   "id": "27",
   "metadata": {},
   "outputs": [],
   "source": [
    "for wf in waveform_a[np.all(waveform_a>-200, axis=1)]:\n",
    "    plt.plot(wf)"
   ]
  },
  {
   "cell_type": "code",
   "execution_count": null,
   "id": "28",
   "metadata": {},
   "outputs": [],
   "source": [
    "t_diff = []\n",
    "ratio = []\n",
    "for x in range(len(time_a)):\n",
    "    if q_b[x] == 0: continue\n",
    "    t = time_b[x] - time_a[x]\n",
    "    r = v_b[x] / q_b[x] \n",
    "    t_diff.append(t)\n",
    "    ratio.append(r)\n",
    "t_diff = np.abs(t_diff)\n",
    "\n",
    "plt.hist2d(ratio, t_diff, bins = (200, 200), cmap=plt.cm.gnuplot2)\n",
    "plt.xlabel('ratio peak to charge')\n",
    "plt.ylabel('time_b - time_a')\n",
    "plt.title('comparison with ratio from b side')\n",
    "plt.ylim(0, 20)\n",
    "plt.xlim(2, 8)\n",
    "plt.colorbar()\n",
    "plt.show()\n",
    "#plt.savefig('/Users/gracetytus/Downloads/2d_sideb.png')"
   ]
  },
  {
   "cell_type": "code",
   "execution_count": null,
   "id": "29",
   "metadata": {},
   "outputs": [],
   "source": [
    "time_a[0]"
   ]
  },
  {
   "cell_type": "code",
   "execution_count": null,
   "id": "30",
   "metadata": {},
   "outputs": [],
   "source": [
    "time_b[0]"
   ]
  },
  {
   "cell_type": "code",
   "execution_count": null,
   "id": "31",
   "metadata": {},
   "outputs": [],
   "source": [
    "time_a[0] - time_b[0]"
   ]
  },
  {
   "cell_type": "code",
   "execution_count": null,
   "id": "32",
   "metadata": {},
   "outputs": [],
   "source": []
  }
 ],
 "metadata": {
  "kernelspec": {
   "display_name": "Python 3 (ipykernel)",
   "language": "python",
   "name": "python3"
  },
  "language_info": {
   "codemirror_mode": {
    "name": "ipython",
    "version": 3
   },
   "file_extension": ".py",
   "mimetype": "text/x-python",
   "name": "python",
   "nbconvert_exporter": "python",
   "pygments_lexer": "ipython3",
   "version": "3.12.6"
  }
 },
 "nbformat": 4,
 "nbformat_minor": 5
}
