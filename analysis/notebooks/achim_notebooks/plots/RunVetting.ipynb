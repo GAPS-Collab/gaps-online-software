{
 "cells": [
  {
   "cell_type": "code",
   "execution_count": null,
   "id": "0",
   "metadata": {},
   "outputs": [],
   "source": [
    "import gaps_online.tof as gt\n",
    "import gaps_online as go\n",
    "import gaps_tof as gt_cxx\n",
    "import gaps_online.db as db\n",
    "import rust_dataclasses as rd\n",
    "import re\n",
    "from tqdm.notebook import tqdm\n",
    "from glob import glob\n",
    "from pathlib import Path\n",
    "#import HErmes.fitting as fit\n",
    "\n",
    "import dashi as d\n",
    "import pylab as p\n",
    "import numpy as np\n",
    "d.visual()\n",
    "import charmingbeauty.visual as vis\n",
    "import charmingbeauty.layout as lo\n",
    "vis.set_style_present()\n",
    "\n",
    "# FIXME add DJANGO_ALLOW_ASYNC_UNSAFE=1 to setup.env\n",
    "RUNPATH  = Path('/data1/nextcloud/cra_data/data/2023_nevis/tof/')\n",
    "CALIPATH = RUNPATH / 'calibration' / '2024_03_12'"
   ]
  },
  {
   "cell_type": "code",
   "execution_count": null,
   "id": "1",
   "metadata": {},
   "outputs": [],
   "source": [
    "print (CALIPATH)"
   ]
  },
  {
   "cell_type": "code",
   "execution_count": null,
   "id": "2",
   "metadata": {},
   "outputs": [],
   "source": [
    "def skipped_events(events):\n",
    "    n_skipped = 0\n",
    "    last_evid = 0\n",
    "    #print(len(events))\n",
    "    evids = [k.mt_event.event_id for k in events]\n",
    "    #print (min(evids))\n",
    "    #print (max(evids))\n",
    "    evids = [k for k in sorted(set(evids))]\n",
    "    #print (len(evids))\n",
    "    if evids[0] == 0:\n",
    "        evids = evids[1:]\n",
    "    last_evid = evids[0]\n",
    "    #print (last_evid)\n",
    "    #print (len(evids))\n",
    "    #print (evids[:10])\n",
    "    #raise\n",
    "    for k in range(len(evids)):#, desc=\"Missing event search...\"):\n",
    "        if not last_evid in evids:\n",
    "            n_skipped += 1\n",
    "        last_evid += 1\n",
    "        \n",
    "    #for ev in events:\n",
    "        #if ev.event_id != last_evid + 1:\n",
    "        #if ev.header.event_id != last_evid + 1:\n",
    "        #    if not last_evid == 0:\n",
    "         #       n_skipped += 1\n",
    "        #last_evid = ev.header.event_id\n",
    "        #last_evid = ev.event_id\n",
    "        #print (ev.event_id)\n",
    "    return n_skipped"
   ]
  },
  {
   "cell_type": "code",
   "execution_count": null,
   "id": "3",
   "metadata": {},
   "outputs": [],
   "source": [
    "runfiles = sorted((RUNPATH / '142').glob('*.tof.gaps'))\n",
    "#runfiles = [k for k in runfiles][10:]\n",
    "#print (runfiles)\n",
    "#print (len(runfiles))\n",
    "#raise\n",
    "nfiles = 0\n",
    "events = []\n",
    "all_skipped = 0\n",
    "last_evid   = 0\n",
    "for rfile in tqdm(runfiles):\n",
    "    #packets = gt.get_tofpackets(str(rfile), filter=go.cxx_api.PacketType.TofEventSummary)\n",
    "    packets = gt.get_tofpackets(str(rfile), filter=go.cxx_api.PacketType.TofEvent)\n",
    "    #print (packets)\n",
    "    \n",
    "    #raise\n",
    "    #print (packets[1].payload)\n",
    "    events = [go.cxx_api.TofEvent.from_tofpacket(k) for k in packets]\n",
    "    #for k in events:\n",
    "    #    print(k.header.event_id)\n",
    "    #raise\n",
    "    #print (events[0])\n",
    "    #raise\n",
    "    #events = [go.cxx_api.TofEventSummary.from_bytestream(k.payload, 0) for k in packets]\n",
    "    #events = sorted(events, key = lambda x : x.header.event_id)\n",
    "    #if not events:\n",
    "    #    print (f\"File {rfile} dos not contain any tof events!\")\n",
    "     #   continue\n",
    "    #last_event = events[-1].header.event_id\n",
    "    #last_event = events[-1].event_id\n",
    "    #raise\n",
    "    #if not last_evid == 0:\n",
    "    #    if last_event - last_evid > 1:\n",
    "    #        pass\n",
    "            #print(f\"We skipped {last_event-last_evid} events between the files!!!\")\n",
    "            #all_skipped += last_event - last_evid - 1\n",
    "    #last_evid = last_event\n",
    "    #n_skip = skipped_events(events[10000:20000])\n",
    "    n_skip = skipped_events(events)\n",
    "    #raise\n",
    "    all_skipped += n_skip\n",
    "    print (f'File {rfile} had {n_skip}/{len(events)} {100*n_skip/len(events):4.2f} % skipped event ids!')\n",
    "    #break\n",
    "    #events.extend([go.cxx_api.TofEvent.from_tofpacket(k) for k in packets])\n",
    "    #nfiles += 1\n",
    "    #if nfiles == 20:\n",
    "    #    break"
   ]
  },
  {
   "cell_type": "code",
   "execution_count": null,
   "id": "4",
   "metadata": {},
   "outputs": [],
   "source": [
    "print (len(events))\n",
    "print (all_skipped)\n",
    "#go.cxx_api.PacketType."
   ]
  },
  {
   "cell_type": "code",
   "execution_count": null,
   "id": "5",
   "metadata": {},
   "outputs": [],
   "source": [
    "events[0].mt_event"
   ]
  },
  {
   "cell_type": "code",
   "execution_count": null,
   "id": "6",
   "metadata": {},
   "outputs": [],
   "source": [
    "hits = []\n",
    "for k in tqdm(events):\n",
    "    for n in k.rbevents:\n",
    "        hits.extend(n.hits)"
   ]
  },
  {
   "cell_type": "code",
   "execution_count": null,
   "id": "7",
   "metadata": {},
   "outputs": [],
   "source": [
    "print (len(hits))"
   ]
  },
  {
   "cell_type": "code",
   "execution_count": null,
   "id": "8",
   "metadata": {},
   "outputs": [],
   "source": [
    "%matplotlib inline\n",
    "events[0].rbevents[0].plot()"
   ]
  },
  {
   "cell_type": "code",
   "execution_count": null,
   "id": "9",
   "metadata": {},
   "outputs": [],
   "source": [
    "%matplotlib inline\n",
    "\n",
    "h = hits[0]\n",
    "#print (h)\n",
    "for h in hits:\n",
    "    if h.charge_b != 0:\n",
    "        print (h.charge_b)\n",
    "        print (h)\n",
    "        break"
   ]
  },
  {
   "cell_type": "code",
   "execution_count": null,
   "id": "10",
   "metadata": {},
   "outputs": [],
   "source": [
    "peaks_a = [h.peak_a for h in hits]\n",
    "peaks_b = [h.peak_b for h in hits]\n",
    "\n",
    "hist_a = d.factory.hist1d(peaks_a, 100)\n",
    "hist_b = d.factory.hist1d(peaks_b, 100)\n",
    "\n",
    "hist_a.line()\n",
    "hist_b.line()\n",
    "p.show()"
   ]
  },
  {
   "cell_type": "code",
   "execution_count": null,
   "id": "11",
   "metadata": {},
   "outputs": [],
   "source": []
  }
 ],
 "metadata": {
  "kernelspec": {
   "display_name": "Python 3 (ipykernel)",
   "language": "python",
   "name": "python3"
  },
  "language_info": {
   "codemirror_mode": {
    "name": "ipython",
    "version": 3
   },
   "file_extension": ".py",
   "mimetype": "text/x-python",
   "name": "python",
   "nbconvert_exporter": "python",
   "pygments_lexer": "ipython3",
   "version": "3.10.12"
  }
 },
 "nbformat": 4,
 "nbformat_minor": 5
}
