{
 "cells": [
  {
   "cell_type": "code",
   "execution_count": null,
   "id": "0",
   "metadata": {},
   "outputs": [],
   "source": [
    "import gaps_online.tof as gt\n",
    "import gaps_online as go\n",
    "import gaps_tof as gt_cxx\n",
    "import gaps_online.db as db\n",
    "import rust_dataclasses as rd\n",
    "import re\n",
    "from tqdm.notebook import tqdm\n",
    "from glob import glob\n",
    "from pathlib import Path\n",
    "#import HErmes.fitting as fit\n",
    "\n",
    "import dashi as d\n",
    "import pylab as p\n",
    "import numpy as np\n",
    "d.visual()\n",
    "import charmingbeauty.visual as vis\n",
    "import charmingbeauty.layout as lo\n",
    "vis.set_style_present()\n",
    "\n",
    "# FIXME add DJANGO_ALLOW_ASYNC_UNSAFE=1 to setup.env\n",
    "RUNPATH  = Path('/data1/nextcloud/cra_data/data/2023_nevis/tof/')\n",
    "CALIPATH = RUNPATH / 'calibration'"
   ]
  },
  {
   "cell_type": "code",
   "execution_count": null,
   "id": "1",
   "metadata": {},
   "outputs": [],
   "source": [
    "runfiles = (RUNPATH / '1001').glob('*.tof.gaps')\n",
    "\n",
    "nfiles = 0\n",
    "events = []\n",
    "for rfile in runfiles:\n",
    "    #print (rfile)\n",
    "    if 'RB' in str(rfile):\n",
    "        continue\n",
    "    packets = gt.get_tofpackets(str(rfile), filter=go.cxx_api.PacketType.RBCalibration)\n",
    "    #print (rfile, packets)\n",
    "    #continue\n",
    "    cali = go.cxx_api.RBCalibration.from_tofpacket(packets[0])\n",
    "    print (cali)\n",
    "    #events.extend([go.cxx_api.TofEvent.from_tofpacket(k) for k in packets])"
   ]
  },
  {
   "cell_type": "code",
   "execution_count": null,
   "id": "2",
   "metadata": {},
   "outputs": [],
   "source": [
    "packets"
   ]
  },
  {
   "cell_type": "code",
   "execution_count": null,
   "id": "3",
   "metadata": {},
   "outputs": [],
   "source": [
    "cali = go.cxx_api.RBCalibration.from_tofpacket(packets[0])\n"
   ]
  },
  {
   "cell_type": "code",
   "execution_count": null,
   "id": "4",
   "metadata": {},
   "outputs": [],
   "source": [
    "cali.v_dips"
   ]
  },
  {
   "cell_type": "code",
   "execution_count": null,
   "id": "5",
   "metadata": {},
   "outputs": [],
   "source": []
  }
 ],
 "metadata": {
  "kernelspec": {
   "display_name": "Python 3 (ipykernel)",
   "language": "python",
   "name": "python3"
  },
  "language_info": {
   "codemirror_mode": {
    "name": "ipython",
    "version": 3
   },
   "file_extension": ".py",
   "mimetype": "text/x-python",
   "name": "python",
   "nbconvert_exporter": "python",
   "pygments_lexer": "ipython3",
   "version": "3.10.12"
  }
 },
 "nbformat": 4,
 "nbformat_minor": 5
}
