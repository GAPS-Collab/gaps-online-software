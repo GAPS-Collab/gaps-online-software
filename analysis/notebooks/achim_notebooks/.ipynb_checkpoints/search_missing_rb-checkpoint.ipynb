{
 "cells": [
  {
   "cell_type": "markdown",
   "id": "20622851-1d07-4272-be17-4f94dceb4a99",
   "metadata": {},
   "source": [
    "# Search for missing RBs in non trace suppressed data with the track trigger\n",
    "\n",
    "* e.g. Run 118 is suitable for such a study"
   ]
  },
  {
   "cell_type": "code",
   "execution_count": 7,
   "id": "899d2568-4e41-484d-9b83-8f67668ef3bc",
   "metadata": {},
   "outputs": [],
   "source": [
    "import gaps_online.tof as gt\n",
    "import gaps_online as go\n",
    "import gaps_tof as gt_cxx\n",
    "import rust_dataclasses as rd\n",
    "from glob import glob\n",
    "import re\n",
    "\n",
    "from pathlib import Path\n",
    "\n",
    "RUNPATH  = Path('/data1/nextcloud/cra_data/data/2023_nevis/tof/')\n",
    "CALIPATH = RUNPATH / 'calibration'"
   ]
  },
  {
   "cell_type": "code",
   "execution_count": 12,
   "id": "61abdbb6-7fb4-4ee8-a1b1-48d743b4bf3c",
   "metadata": {},
   "outputs": [
    {
     "name": "stdout",
     "output_type": "stream",
     "text": [
      "[2024-02-28 22:31:07.919] [info] [io.cxx:92] Read out 1 packets from bytestream!\n",
      "[info] [io.cxx - get_tofpackets:92] [2024-02-28 22:31:08] -- Read out 1 packets from bytestream!\n",
      "[info] [io.cxx - get_tofpackets:92] [2024-02-28 22:31:09] -- Read out 1 packets from bytestream!\n",
      "[info] [io.cxx - get_tofpackets:92] [2024-02-28 22:31:09] -- Read out 1 packets from bytestream!\n",
      "[info] [io.cxx - get_tofpackets:92] [2024-02-28 22:31:10] -- Read out 1 packets from bytestream!\n",
      "[info] [io.cxx - get_tofpackets:92] [2024-02-28 22:31:10] -- Read out 1 packets from bytestream!\n",
      "[info] [io.cxx - get_tofpackets:92] [2024-02-28 22:31:11] -- Read out 1 packets from bytestream!\n",
      "[info] [io.cxx - get_tofpackets:92] [2024-02-28 22:31:11] -- Read out 1 packets from bytestream!\n",
      "[info] [io.cxx - get_tofpackets:92] [2024-02-28 22:31:12] -- Read out 1 packets from bytestream!\n",
      "[info] [io.cxx - get_tofpackets:92] [2024-02-28 22:31:12] -- Read out 1 packets from bytestream!\n",
      "[info] [io.cxx - get_tofpackets:92] [2024-02-28 22:31:13] -- Read out 1 packets from bytestream!\n",
      "[info] [io.cxx - get_tofpackets:92] [2024-02-28 22:31:13] -- Read out 1 packets from bytestream!\n",
      "[info] [io.cxx - get_tofpackets:92] [2024-02-28 22:31:14] -- Read out 1 packets from bytestream!\n",
      "[info] [io.cxx - get_tofpackets:92] [2024-02-28 22:31:15] -- Read out 1 packets from bytestream!\n",
      "[info] [io.cxx - get_tofpackets:92] [2024-02-28 22:31:15] -- Read out 1 packets from bytestream!\n",
      "[info] [io.cxx - get_tofpackets:92] [2024-02-28 22:31:16] -- Read out 1 packets from bytestream!\n",
      "[info] [io.cxx - get_tofpackets:92] [2024-02-28 22:31:17] -- Read out 1 packets from bytestream!\n",
      "[info] [io.cxx - get_tofpackets:92] [2024-02-28 22:31:18] -- Read out 1 packets from bytestream!\n",
      "[info] [io.cxx - get_tofpackets:92] [2024-02-28 22:31:19] -- Read out 1 packets from bytestream!\n",
      "[info] [io.cxx - get_tofpackets:92] [2024-02-28 22:31:19] -- Read out 1 packets from bytestream!\n",
      "[info] [io.cxx - get_tofpackets:92] [2024-02-28 22:31:20] -- Read out 1 packets from bytestream!\n",
      "[info] [io.cxx - get_tofpackets:92] [2024-02-28 22:31:20] -- Read out 1 packets from bytestream!\n",
      "[info] [io.cxx - get_tofpackets:92] [2024-02-28 22:31:21] -- Read out 1 packets from bytestream!\n",
      "[info] [io.cxx - get_tofpackets:92] [2024-02-28 22:31:22] -- Read out 1 packets from bytestream!\n",
      "[info] [io.cxx - get_tofpackets:92] [2024-02-28 22:31:22] -- Read out 1 packets from bytestream!\n",
      "[info] [io.cxx - get_tofpackets:92] [2024-02-28 22:31:23] -- Read out 1 packets from bytestream!\n",
      "[info] [io.cxx - get_tofpackets:92] [2024-02-28 22:31:23] -- Read out 1 packets from bytestream!\n",
      "[info] [io.cxx - get_tofpackets:92] [2024-02-28 22:31:24] -- Read out 1 packets from bytestream!\n",
      "[info] [io.cxx - get_tofpackets:92] [2024-02-28 22:31:24] -- Read out 1 packets from bytestream!\n",
      "[info] [io.cxx - get_tofpackets:92] [2024-02-28 22:31:25] -- Read out 1 packets from bytestream!\n",
      "[info] [io.cxx - get_tofpackets:92] [2024-02-28 22:31:26] -- Read out 1 packets from bytestream!\n",
      "[info] [io.cxx - get_tofpackets:92] [2024-02-28 22:31:26] -- Read out 1 packets from bytestream!\n",
      "[info] [io.cxx - get_tofpackets:92] [2024-02-28 22:31:27] -- Read out 1 packets from bytestream!\n",
      "[info] [io.cxx - get_tofpackets:92] [2024-02-28 22:31:28] -- Read out 1 packets from bytestream!\n",
      "[info] [io.cxx - get_tofpackets:92] [2024-02-28 22:31:28] -- Read out 1 packets from bytestream!\n",
      "[info] [io.cxx - get_tofpackets:92] [2024-02-28 22:31:29] -- Read out 1 packets from bytestream!\n",
      "[info] [io.cxx - get_tofpackets:92] [2024-02-28 22:31:29] -- Read out 1 packets from bytestream!\n",
      "[info] [io.cxx - get_tofpackets:92] [2024-02-28 22:31:30] -- Read out 1 packets from bytestream!\n",
      "[info] [io.cxx - get_tofpackets:92] [2024-02-28 22:31:30] -- Read out 1 packets from bytestream!\n",
      "[info] [io.cxx - get_tofpackets:92] [2024-02-28 22:31:31] -- Read out 1 packets from bytestream!\n"
     ]
    }
   ],
   "source": [
    "pattern = re.compile('RB(?P<rbid>[0-9]*)_')\n",
    "\n",
    "calibrations = CALIPATH.glob('*.tof.gaps')\n",
    "calib = dict()\n",
    "for fname in calibrations:\n",
    "    fname = str(fname)\n",
    "    rbid = int(pattern.search(fname).groupdict()['rbid'])\n",
    "    calib[rbid] = go.cxx_api.RBCalibration.from_califile(fname)"
   ]
  },
  {
   "cell_type": "code",
   "execution_count": 13,
   "id": "0887f513-c8d9-4c94-8a37-b9e953775c9a",
   "metadata": {},
   "outputs": [
    {
     "name": "stdout",
     "output_type": "stream",
     "text": [
      "<ReadoutboardCalibration:\n",
      "\t RB             : 1\n",
      "\t VCalData       : 1000 (events)\n",
      "\t TCalData       : 1000 (events)\n",
      "\t NoInputData    : 1000 (events)\n",
      "\t V Offsets [ch0]: .. 4533.201172 4792.408203..\n",
      "\t V Incrmts [ch0]: .. 0.063705 0.063763..\n",
      "\t V Dips    [ch0]: .. 6.364990 6.589600..\n",
      "\t T Bins    [ch0]: .. 0.404588 0.567620..>\n"
     ]
    }
   ],
   "source": [
    "print (calib[1])"
   ]
  },
  {
   "cell_type": "code",
   "execution_count": null,
   "id": "8a7475df-baeb-4264-8bcb-48593cc6c59d",
   "metadata": {},
   "outputs": [],
   "source": []
  }
 ],
 "metadata": {
  "kernelspec": {
   "display_name": "Python 3 (ipykernel)",
   "language": "python",
   "name": "python3"
  },
  "language_info": {
   "codemirror_mode": {
    "name": "ipython",
    "version": 3
   },
   "file_extension": ".py",
   "mimetype": "text/x-python",
   "name": "python",
   "nbconvert_exporter": "python",
   "pygments_lexer": "ipython3",
   "version": "3.10.12"
  }
 },
 "nbformat": 4,
 "nbformat_minor": 5
}
