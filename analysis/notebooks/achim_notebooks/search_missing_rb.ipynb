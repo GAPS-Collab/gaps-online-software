{
 "cells": [
  {
   "cell_type": "markdown",
   "id": "20622851-1d07-4272-be17-4f94dceb4a99",
   "metadata": {},
   "source": [
    "# Search for missing RBs in non trace suppressed data with the track trigger\n",
    "\n",
    "* e.g. Run 118 (without trace suppression) is suitable for such a study\n",
    "* Run 120 has central track trigger and trace suppression\n",
    "* Also plot the baselines"
   ]
  },
  {
   "cell_type": "code",
   "execution_count": 1,
   "id": "899d2568-4e41-484d-9b83-8f67668ef3bc",
   "metadata": {},
   "outputs": [],
   "source": [
    "import gaps_online.tof as gt\n",
    "import gaps_online as go\n",
    "import gaps_tof as gt_cxx\n",
    "import gaps_online.db as db\n",
    "import rust_dataclasses as rd\n",
    "import re\n",
    "from tqdm.notebook import tqdm\n",
    "from glob import glob\n",
    "from pathlib import Path\n",
    "#import HErmes.fitting as fit\n",
    "\n",
    "import dashi as d\n",
    "import pylab as p\n",
    "import numpy as np\n",
    "d.visual()\n",
    "import charmingbeauty.visual as vis\n",
    "import charmingbeauty.layout as lo\n",
    "vis.set_style_present()\n",
    "\n",
    "# FIXME add DJANGO_ALLOW_ASYNC_UNSAFE=1 to setup.env\n",
    "RUNPATH  = Path('/data1/nextcloud/cra_data/data/2023_nevis/tof/')\n",
    "CALIPATH = RUNPATH / 'calibration'"
   ]
  },
  {
   "cell_type": "code",
   "execution_count": 2,
   "id": "56d7953e-a340-4a6d-83a5-415b2b284682",
   "metadata": {},
   "outputs": [],
   "source": [
    "def rms(data):\n",
    "    return np.sqrt((1/len(data))*((data**2).sum()))"
   ]
  },
  {
   "cell_type": "code",
   "execution_count": 3,
   "id": "4ba8e448-d085-44c6-b118-553bcbc77093",
   "metadata": {},
   "outputs": [],
   "source": [
    "paddles = db.tof_paddle_manifest()\n",
    "rbs     = db.tdb.models.RB.objects.all()\n",
    "pends   = db.tdb.models.PaddleEnd.objects.all()"
   ]
  },
  {
   "cell_type": "code",
   "execution_count": 4,
   "id": "61abdbb6-7fb4-4ee8-a1b1-48d743b4bf3c",
   "metadata": {
    "scrolled": true
   },
   "outputs": [
    {
     "name": "stdout",
     "output_type": "stream",
     "text": [
      "[2024-02-29 02:48:18.375] [info] [io.cxx:92] Read out 1 packets from bytestream!\n",
      "[info] [io.cxx - get_tofpackets:92] [2024-02-29 02:48:18] -- Read out 1 packets from bytestream!\n",
      "[info] [io.cxx - get_tofpackets:92] [2024-02-29 02:48:19] -- Read out 1 packets from bytestream!\n",
      "[info] [io.cxx - get_tofpackets:92] [2024-02-29 02:48:19] -- Read out 1 packets from bytestream!\n",
      "[info] [io.cxx - get_tofpackets:92] [2024-02-29 02:48:19] -- Read out 1 packets from bytestream!\n",
      "[info] [io.cxx - get_tofpackets:92] [2024-02-29 02:48:20] -- Read out 1 packets from bytestream!\n",
      "[info] [io.cxx - get_tofpackets:92] [2024-02-29 02:48:20] -- Read out 1 packets from bytestream!\n",
      "[info] [io.cxx - get_tofpackets:92] [2024-02-29 02:48:20] -- Read out 1 packets from bytestream!\n",
      "[info] [io.cxx - get_tofpackets:92] [2024-02-29 02:48:21] -- Read out 1 packets from bytestream!\n",
      "[info] [io.cxx - get_tofpackets:92] [2024-02-29 02:48:21] -- Read out 1 packets from bytestream!\n",
      "[info] [io.cxx - get_tofpackets:92] [2024-02-29 02:48:21] -- Read out 1 packets from bytestream!\n",
      "[info] [io.cxx - get_tofpackets:92] [2024-02-29 02:48:21] -- Read out 1 packets from bytestream!\n",
      "[info] [io.cxx - get_tofpackets:92] [2024-02-29 02:48:22] -- Read out 1 packets from bytestream!\n",
      "[info] [io.cxx - get_tofpackets:92] [2024-02-29 02:48:22] -- Read out 1 packets from bytestream!\n",
      "[info] [io.cxx - get_tofpackets:92] [2024-02-29 02:48:22] -- Read out 1 packets from bytestream!\n",
      "[info] [io.cxx - get_tofpackets:92] [2024-02-29 02:48:23] -- Read out 1 packets from bytestream!\n",
      "[info] [io.cxx - get_tofpackets:92] [2024-02-29 02:48:23] -- Read out 1 packets from bytestream!\n",
      "[info] [io.cxx - get_tofpackets:92] [2024-02-29 02:48:23] -- Read out 1 packets from bytestream!\n",
      "[info] [io.cxx - get_tofpackets:92] [2024-02-29 02:48:24] -- Read out 1 packets from bytestream!\n",
      "[info] [io.cxx - get_tofpackets:92] [2024-02-29 02:48:24] -- Read out 1 packets from bytestream!\n",
      "[info] [io.cxx - get_tofpackets:92] [2024-02-29 02:48:24] -- Read out 1 packets from bytestream!\n",
      "[info] [io.cxx - get_tofpackets:92] [2024-02-29 02:48:25] -- Read out 1 packets from bytestream!\n",
      "[info] [io.cxx - get_tofpackets:92] [2024-02-29 02:48:25] -- Read out 1 packets from bytestream!\n",
      "[info] [io.cxx - get_tofpackets:92] [2024-02-29 02:48:25] -- Read out 1 packets from bytestream!\n",
      "[info] [io.cxx - get_tofpackets:92] [2024-02-29 02:48:26] -- Read out 1 packets from bytestream!\n",
      "[info] [io.cxx - get_tofpackets:92] [2024-02-29 02:48:26] -- Read out 1 packets from bytestream!\n",
      "[info] [io.cxx - get_tofpackets:92] [2024-02-29 02:48:26] -- Read out 1 packets from bytestream!\n",
      "[info] [io.cxx - get_tofpackets:92] [2024-02-29 02:48:27] -- Read out 1 packets from bytestream!\n",
      "[info] [io.cxx - get_tofpackets:92] [2024-02-29 02:48:27] -- Read out 1 packets from bytestream!\n",
      "[info] [io.cxx - get_tofpackets:92] [2024-02-29 02:48:27] -- Read out 1 packets from bytestream!\n",
      "[info] [io.cxx - get_tofpackets:92] [2024-02-29 02:48:28] -- Read out 1 packets from bytestream!\n",
      "[info] [io.cxx - get_tofpackets:92] [2024-02-29 02:48:28] -- Read out 1 packets from bytestream!\n",
      "[info] [io.cxx - get_tofpackets:92] [2024-02-29 02:48:28] -- Read out 1 packets from bytestream!\n",
      "[info] [io.cxx - get_tofpackets:92] [2024-02-29 02:48:29] -- Read out 1 packets from bytestream!\n",
      "[info] [io.cxx - get_tofpackets:92] [2024-02-29 02:48:29] -- Read out 1 packets from bytestream!\n",
      "[info] [io.cxx - get_tofpackets:92] [2024-02-29 02:48:29] -- Read out 1 packets from bytestream!\n",
      "[info] [io.cxx - get_tofpackets:92] [2024-02-29 02:48:30] -- Read out 1 packets from bytestream!\n",
      "[info] [io.cxx - get_tofpackets:92] [2024-02-29 02:48:30] -- Read out 1 packets from bytestream!\n",
      "[info] [io.cxx - get_tofpackets:92] [2024-02-29 02:48:30] -- Read out 1 packets from bytestream!\n",
      "[info] [io.cxx - get_tofpackets:92] [2024-02-29 02:48:30] -- Read out 1 packets from bytestream!\n"
     ]
    }
   ],
   "source": [
    "pattern = re.compile('RB(?P<rbid>[0-9]*)_')\n",
    "\n",
    "calibrations = CALIPATH.glob('*.tof.gaps')\n",
    "calib = dict()\n",
    "\n",
    "for fname in calibrations:\n",
    "    fname = str(fname)\n",
    "    rbid = int(pattern.search(fname).groupdict()['rbid'])\n",
    "    calib[rbid] = go.cxx_api.RBCalibration.from_califile(fname)"
   ]
  },
  {
   "cell_type": "code",
   "execution_count": 7,
   "id": "0887f513-c8d9-4c94-8a37-b9e953775c9a",
   "metadata": {},
   "outputs": [
    {
     "name": "stdout",
     "output_type": "stream",
     "text": [
      "<ReadoutboardCalibration:\n",
      "\t RB             : 1\n",
      "\t VCalData       : 1000 (events)\n",
      "\t TCalData       : 1000 (events)\n",
      "\t NoInputData    : 1000 (events)\n",
      "\t V Offsets [ch0]: .. 4533.201172 4792.408203..\n",
      "\t V Incrmts [ch0]: .. 0.063705 0.063763..\n",
      "\t V Dips    [ch0]: .. 6.364990 6.589600..\n",
      "\t T Bins    [ch0]: .. 0.404588 0.567620..>\n"
     ]
    }
   ],
   "source": [
    "print (calib[1])"
   ]
  },
  {
   "cell_type": "markdown",
   "id": "64f558f5-16db-45be-9560-81245feb85d4",
   "metadata": {},
   "source": [
    "## Run 120 - central track trigger, trace suppression"
   ]
  },
  {
   "cell_type": "code",
   "execution_count": 5,
   "id": "90b7d23f-72d3-4ced-a729-9d25cf508236",
   "metadata": {
    "scrolled": true
   },
   "outputs": [
    {
     "name": "stdout",
     "output_type": "stream",
     "text": [
      "[info] [io.cxx - get_tofpackets:92] [2024-02-29 02:48:31] -- Read out 1288 packets from bytestream!\n",
      "[info] [io.cxx - get_tofpackets:92] [2024-02-29 02:48:31] -- Read out 1196 packets from bytestream!\n",
      "[info] [io.cxx - get_tofpackets:92] [2024-02-29 02:48:31] -- Read out 1271 packets from bytestream!\n",
      "[info] [io.cxx - get_tofpackets:92] [2024-02-29 02:48:31] -- Read out 1304 packets from bytestream!\n",
      "[info] [io.cxx - get_tofpackets:92] [2024-02-29 02:48:31] -- Read out 1278 packets from bytestream!\n",
      "[error] [events.cxx - from_bytestream:828] [2024-02-29 02:48:31] -- Size matches neither 20 nor 25 LTBs!\n",
      "[error] [events.cxx - from_bytestream:214] [2024-02-29 02:48:31] -- Tail signature incorrect! Got tail 62993\n",
      "[info] [io.cxx - get_tofpackets:92] [2024-02-29 02:48:31] -- Read out 1288 packets from bytestream!\n",
      "[info] [io.cxx - get_tofpackets:92] [2024-02-29 02:48:31] -- Read out 820 packets from bytestream!\n",
      "[info] [io.cxx - get_tofpackets:92] [2024-02-29 02:48:31] -- Read out 1312 packets from bytestream!\n",
      "[info] [io.cxx - get_tofpackets:92] [2024-02-29 02:48:31] -- Read out 1304 packets from bytestream!\n",
      "[info] [io.cxx - get_tofpackets:92] [2024-02-29 02:48:31] -- Read out 1290 packets from bytestream!\n",
      "[info] [io.cxx - get_tofpackets:92] [2024-02-29 02:48:31] -- Read out 1283 packets from bytestream!\n",
      "[info] [io.cxx - get_tofpackets:92] [2024-02-29 02:48:32] -- Read out 1287 packets from bytestream!\n",
      "[info] [io.cxx - get_tofpackets:92] [2024-02-29 02:48:32] -- Read out 1295 packets from bytestream!\n",
      "[info] [io.cxx - get_tofpackets:92] [2024-02-29 02:48:32] -- Read out 1291 packets from bytestream!\n",
      "[info] [io.cxx - get_tofpackets:92] [2024-02-29 02:48:32] -- Read out 1287 packets from bytestream!\n",
      "[info] [io.cxx - get_tofpackets:92] [2024-02-29 02:48:32] -- Read out 1309 packets from bytestream!\n",
      "[info] [io.cxx - get_tofpackets:92] [2024-02-29 02:48:32] -- Read out 1292 packets from bytestream!\n",
      "[error] [events.cxx - from_bytestream:828] [2024-02-29 02:48:32] -- Size matches neither 20 nor 25 LTBs!\n",
      "[error] [events.cxx - from_bytestream:214] [2024-02-29 02:48:32] -- Tail signature incorrect! Got tail 43282\n",
      "[info] [io.cxx - get_tofpackets:92] [2024-02-29 02:48:32] -- Read out 1290 packets from bytestream!\n",
      "[error] [events.cxx - from_bytestream:828] [2024-02-29 02:48:32] -- Size matches neither 20 nor 25 LTBs!\n",
      "[error] [events.cxx - from_bytestream:214] [2024-02-29 02:48:32] -- Tail signature incorrect! Got tail 18195\n",
      "[info] [io.cxx - get_tofpackets:92] [2024-02-29 02:48:32] -- Read out 1299 packets from bytestream!\n",
      "[info] [io.cxx - get_tofpackets:92] [2024-02-29 02:48:32] -- Read out 1245 packets from bytestream!\n"
     ]
    }
   ],
   "source": [
    "runfiles = (RUNPATH / '120').glob('*.tof.gaps')\n",
    "nfiles = 0\n",
    "events = []\n",
    "for rfile in runfiles:\n",
    "    packets = gt.get_tofpackets(str(rfile), filter=go.cxx_api.PacketType.TofEvent)\n",
    "    events.extend([go.cxx_api.TofEvent.from_tofpacket(k) for k in packets])\n",
    "    nfiles += 1\n",
    "    if nfiles == 20:\n",
    "        break"
   ]
  },
  {
   "cell_type": "code",
   "execution_count": 6,
   "id": "7957fd2d-da35-4ddb-871e-16175585a447",
   "metadata": {},
   "outputs": [
    {
     "data": {
      "application/vnd.jupyter.widget-view+json": {
       "model_id": "ce38f5f6a38141888aa3b6a613d29dec",
       "version_major": 2,
       "version_minor": 0
      },
      "text/plain": [
       "looking for HG/LG discrepancy...:   0%|          | 0/2000 [00:00<?, ?it/s]"
      ]
     },
     "metadata": {},
     "output_type": "display_data"
    },
    {
     "name": "stdout",
     "output_type": "stream",
     "text": [
      "\n",
      " -- less RB 0.03 more RB 0.00, events 25229\n",
      "{39: 56, 42: 46, 27: 63, 18: 51, 1: 30, 22: 46, 23: 53, 21: 19, 14: 85, 44: 77, 36: 25, 24: 51, 16: 95, 9: 38, 29: 25, 40: 50, 19: 42, 30: 49, 2: 22, 17: 45, 13: 57, 41: 26, 33: 46, 34: 21, 7: 39, 4: 24, 20: 37, 8: 14, 25: 94, 46: 65, 3: 19, 32: 92, 5: 30, 11: 25, 31: 32, 26: 40, 28: 36, 6: 40, 15: 13, 35: 9}\n"
     ]
    }
   ],
   "source": [
    "all_missing_rbs = dict()\n",
    "\n",
    "less_rbs = 0\n",
    "more_rbs = 0\n",
    "for ev in tqdm(events, desc='looking for HG/LG discrepancy...'):\n",
    "    npaddle = ev.mt_event.n_paddles\n",
    "    if len(ev.rbevents) != npaddle:\n",
    "        try:\n",
    "            hits = ev.mt_event.get_dsi_j_ch()\n",
    "        except:\n",
    "            continue\n",
    "        \n",
    "        for hit in hits:\n",
    "            rbhit = db.get_HG_for_LG(*hit)[0]\n",
    "            if not (rbhit in ev.get_rbids()):\n",
    "                if not (rbhit in all_missing_rbs):\n",
    "                    all_missing_rbs[rbhit] = 0\n",
    "                all_missing_rbs[rbhit] += 1\n",
    "        if npaddle > len(ev.rbevents):\n",
    "            less_rbs += 1\n",
    "        else:\n",
    "            more_rbs += 1\n",
    "print(f'\\n -- less RB {less_rbs/len(events):1.2f} more RB {more_rbs/len(events):1.2f}, events {len(events)}')\n",
    "print (all_missing_rbs)"
   ]
  },
  {
   "cell_type": "code",
   "execution_count": 10,
   "id": "13473cc0-2d52-4b76-8987-bfb255aabcba",
   "metadata": {},
   "outputs": [
    {
     "name": "stdout",
     "output_type": "stream",
     "text": [
      "40\n"
     ]
    }
   ],
   "source": [
    "print (len([k for k in all_missing_rbs]))"
   ]
  },
  {
   "cell_type": "code",
   "execution_count": 50,
   "id": "96ada8d5-1373-48d7-8a64-9d21879529b4",
   "metadata": {},
   "outputs": [
    {
     "data": {
      "text/plain": [
       "(14, 1)"
      ]
     },
     "execution_count": 50,
     "metadata": {},
     "output_type": "execute_result"
    }
   ],
   "source": [
    "db.get_HG_for_LG(*ev.mt_event.get_dsi_j_ch()[0])\n",
    "#ev.mt_event.get_dsi_j_ch()"
   ]
  },
  {
   "cell_type": "markdown",
   "id": "c9a33497-e9b2-474d-90b2-3045dd67a649",
   "metadata": {},
   "source": [
    "# Summary\n",
    "\n",
    "We saw that the missing RBs are equally distributed across board ids, both for runs with and without trace suppression."
   ]
  },
  {
   "cell_type": "markdown",
   "id": "4a98a118-811f-48a2-bc60-d0e96168ee8b",
   "metadata": {},
   "source": [
    "## Run 118 - no trace suppression"
   ]
  },
  {
   "cell_type": "code",
   "execution_count": 8,
   "id": "8a7475df-baeb-4264-8bcb-48593cc6c59d",
   "metadata": {
    "scrolled": true
   },
   "outputs": [
    {
     "name": "stdout",
     "output_type": "stream",
     "text": [
      "[info] [io.cxx - get_tofpackets:92] [2024-02-29 00:57:40] -- Read out 1564 packets from bytestream!\n",
      "[info] [io.cxx - get_tofpackets:92] [2024-02-29 00:57:46] -- Read out 1563 packets from bytestream!\n",
      "[info] [io.cxx - get_tofpackets:92] [2024-02-29 00:57:50] -- Read out 1543 packets from bytestream!\n",
      "[info] [io.cxx - get_tofpackets:92] [2024-02-29 00:57:55] -- Read out 1539 packets from bytestream!\n",
      "[info] [io.cxx - get_tofpackets:92] [2024-02-29 00:57:59] -- Read out 1552 packets from bytestream!\n",
      "[info] [io.cxx - get_tofpackets:92] [2024-02-29 00:58:03] -- Read out 1516 packets from bytestream!\n",
      "[info] [io.cxx - get_tofpackets:92] [2024-02-29 00:58:08] -- Read out 1542 packets from bytestream!\n",
      "[info] [io.cxx - get_tofpackets:92] [2024-02-29 00:58:14] -- Read out 1530 packets from bytestream!\n",
      "[info] [io.cxx - get_tofpackets:92] [2024-02-29 00:58:19] -- Read out 1559 packets from bytestream!\n",
      "[info] [io.cxx - get_tofpackets:92] [2024-02-29 00:58:24] -- Read out 1555 packets from bytestream!\n"
     ]
    }
   ],
   "source": [
    "runfiles = (RUNPATH / '118').glob('*.tof.gaps')\n",
    "nfiles = 0\n",
    "events = []\n",
    "for rfile in runfiles:\n",
    "    packets = gt.get_tofpackets(str(rfile), filter=go.cxx_api.PacketType.TofEvent)\n",
    "    events.extend([go.cxx_api.TofEvent.from_tofpacket(k) for k in packets])\n",
    "    nfiles += 1\n",
    "    if nfiles == 10:\n",
    "        break"
   ]
  },
  {
   "cell_type": "code",
   "execution_count": 9,
   "id": "5283d0de-8cc5-4804-bd0d-f9197b76fe91",
   "metadata": {},
   "outputs": [
    {
     "name": "stdout",
     "output_type": "stream",
     "text": [
      "-- in total 15463 events..\n",
      "-- 0.0647 with at least 1 RB missing\n",
      "-- RBID --> NEvents(RB) -- -- --\n",
      "-- 01 --> 15447 [0.0010%]\n",
      "-- 02 --> 15436 [0.0017%]\n",
      "-- 03 --> 15441 [0.0014%]\n",
      "-- 04 --> 15448 [0.0010%]\n",
      "-- 05 --> 15426 [0.0024%]\n",
      "-- 06 --> 15431 [0.0021%]\n",
      "-- 07 --> 15434 [0.0019%]\n",
      "-- 08 --> 15447 [0.0010%]\n",
      "-- 09 --> 15439 [0.0016%]\n",
      "-- 11 --> 15436 [0.0017%]\n",
      "-- 13 --> 15429 [0.0022%]\n",
      "-- 14 --> 15438 [0.0016%]\n",
      "-- 15 --> 15443 [0.0013%]\n",
      "-- 16 --> 15436 [0.0017%]\n",
      "-- 17 --> 15431 [0.0021%]\n",
      "-- 18 --> 15436 [0.0017%]\n",
      "-- 19 --> 15434 [0.0019%]\n",
      "-- 20 --> 15437 [0.0017%]\n",
      "-- 21 --> 15440 [0.0015%]\n",
      "-- 22 --> 15430 [0.0021%]\n",
      "-- 23 --> 15439 [0.0016%]\n",
      "-- 24 --> 15433 [0.0019%]\n",
      "-- 25 --> 15434 [0.0019%]\n",
      "-- 26 --> 15436 [0.0017%]\n",
      "-- 27 --> 15432 [0.0020%]\n",
      "-- 28 --> 15431 [0.0021%]\n",
      "-- 29 --> 15435 [0.0018%]\n",
      "-- 30 --> 15442 [0.0014%]\n",
      "-- 31 --> 15432 [0.0020%]\n",
      "-- 32 --> 15438 [0.0016%]\n",
      "-- 33 --> 15441 [0.0014%]\n",
      "-- 34 --> 15436 [0.0017%]\n",
      "-- 35 --> 15433 [0.0019%]\n",
      "-- 36 --> 15437 [0.0017%]\n",
      "-- 39 --> 15430 [0.0021%]\n",
      "-- 40 --> 15438 [0.0016%]\n",
      "-- 41 --> 15435 [0.0018%]\n",
      "-- 42 --> 15442 [0.0014%]\n",
      "-- 44 --> 15441 [0.0014%]\n",
      "-- 46 --> 15440 [0.0015%]\n"
     ]
    }
   ],
   "source": [
    "ev = events[0]\n",
    "all_rbs = dict()\n",
    "all_ev = len(events)\n",
    "ev_with_missing = 0\n",
    "for rbid in ev.get_rbids(): \n",
    "    all_rbs[rbid] = 0\n",
    "for ev in events:\n",
    "    for rbid in ev.get_rbids():\n",
    "        all_rbs[rbid] += 1\n",
    "    if len(ev.get_rbids()) != 40:\n",
    "        ev_with_missing += 1\n",
    "print (f'-- in total {all_ev} events..')\n",
    "print (f'-- {ev_with_missing/all_ev:1.4f} with at least 1 RB missing')\n",
    "print ('-- RBID --> NEvents(RB) -- -- --')\n",
    "for k in sorted(all_rbs):\n",
    "    print (f'-- {k:02} --> {all_rbs[k]} [{(all_ev - all_rbs[k])/all_ev:1.4f}%]')\n"
   ]
  },
  {
   "cell_type": "code",
   "execution_count": 19,
   "id": "97843d10-ad3c-4f00-8ac1-5c7ee4abc348",
   "metadata": {},
   "outputs": [
    {
     "data": {
      "application/vnd.jupyter.widget-view+json": {
       "model_id": "4fe6570f3ff4490985e610cd249fc512",
       "version_major": 2,
       "version_minor": 0
      },
      "text/plain": [
       "Calculating baselines...:   0%|          | 0/15463 [00:00<?, ?it/s]"
      ]
     },
     "metadata": {},
     "output_type": "display_data"
    }
   ],
   "source": [
    "baselines = dict()\n",
    "for k in rbs:\n",
    "    baselines[k.rb_id] = dict()\n",
    "    for ch in range(0,9):\n",
    "        baselines[k.rb_id][ch] = []\n",
    "        \n",
    "for ev in tqdm(events, desc='Calculating baselines...'):\n",
    "    for rbid in ev.get_rbids():\n",
    "        if rbid == 0:\n",
    "            continue\n",
    "        rbev  = ev.get_rbevent(rbid)\n",
    "        volts = calib[rbid].voltages(rbev)\n",
    "        for ch in rbev.header.get_channels():\n",
    "            bl = volts[ch][10:50].mean()\n",
    "            baselines[rbid][ch].append(bl)\n",
    "\n",
    "for k in baselines:\n",
    "    for ch in baselines[k]:\n",
    "        baselines[k][ch] = np.array(baselines[k][ch])\n",
    "#print (baselines)   "
   ]
  },
  {
   "cell_type": "code",
   "execution_count": 40,
   "id": "7171c313-4118-42b8-82b5-df5f8d537d38",
   "metadata": {},
   "outputs": [
    {
     "name": "stdout",
     "output_type": "stream",
     "text": [
      "1 - {0: 0.7075236072725974, 1: 31.28857119846819, 2: 31.349431959520913, 3: 31.41107030341385, 4: 31.470942328507032, 5: 54.538914274074614, 6: 63.003621598788634, 7: 104.4276927118198}\n",
      "2 - {0: 0.7723130814828623, 1: 30.875065898250337, 2: 30.922870051145832, 3: 31.02667102009611, 4: 31.08525504333358, 5: 53.84415284932205, 6: 62.22617132710784, 7: 102.92956807164495}\n",
      "3 - {0: 0.6041504059992857, 1: 0.5742837628041001, 2: 0.5476927542422951, 3: 0.5229047759099038, 4: 0.5149754465421966, 5: 44.57502485851502, 6: 54.568278700607074, 7: 77.18495823245632}\n",
      "4 - {0: 0.8417808663574295, 1: 0.8453883196638576, 2: 31.218620703229636, 3: 44.19886442861254, 4: 62.45144151981314, 5: 70.00223788684355, 6: 76.64800131539467, 7: 93.76319655092247}\n",
      "5 - {0: 0.8333224699068267, 1: 0.8312463230876275, 2: 0.797184271791669, 3: 31.437397018278148, 4: 31.477734820764805, 5: 54.66940350417351, 6: 77.31453385411915, 7: 99.7071714126737}\n",
      "6 - {0: 0.7618684512137455, 1: 31.15622447240718, 2: 44.16465794287553, 3: 54.17926403299293, 4: 54.24117543973445, 5: 62.76508504304055, 6: 76.90990464628342, 7: 88.79906564099073}\n",
      "7 - {0: 0.9453577922501188, 1: 30.971192833638515, 2: 31.013810164005108, 3: 31.15067238932595, 4: 31.143359446777797, 5: 44.10222466082286, 6: 44.104846984618455, 7: 88.23195013571076}\n",
      "8 - {0: 0.680433179481523, 1: 0.6668014859257898, 2: 0.6780675770750316, 3: 0.6808177716932649, 4: 31.526322003839756, 5: 54.66145741901074, 6: 77.23643874112489, 7: 94.66213493393508}\n",
      "9 - {0: 0.8052807169565448, 1: 0.7851858159553277, 2: 31.13127098950272, 3: 31.15271540206536, 4: 44.29267931055656, 5: 54.16236000224712, 6: 69.96973798317961, 7: 93.81023742172015}\n",
      "11 - {0: 0.7619405730582988, 1: 0.7671467704217292, 2: 0.744092517274496, 3: 54.34789987939603, 4: 62.80570944711334, 5: 62.99746824628609, 6: 70.4048117863706, 7: 94.47401888131161}\n",
      "13 - {0: 0.7487547758193825, 1: 31.61771376473322, 2: 44.93674629167526, 3: 45.02034020830274, 4: 45.12204807235401, 5: 71.05584274993866, 6: 90.13819191576499, 7: 123.16229931905417}\n",
      "14 - {0: 0.7766668259549874, 1: 0.7172496928580441, 2: 31.08062806828903, 3: 31.18837283887749, 4: 31.257905853179096, 5: 62.49139958963418, 6: 98.97928611680192, 7: 117.13436356095465}\n",
      "15 - {0: 0.5735400716552207, 1: 0.5289304475915522, 2: 0.5349574572765613, 3: 0.4997369614941447, 4: 0.5146175500637006, 5: 54.477746874182216, 6: 88.97320844075581, 7: 99.48639197095662}\n",
      "16 - {0: 0.727146199772316, 1: 31.233228720628734, 2: 44.20870313066722, 3: 44.41440694102867, 4: 44.35246294359531, 5: 44.493983451230605, 6: 44.482604745032916, 7: 76.91350988007943}\n",
      "17 - {0: 0.8216435623494659, 1: 31.276598038495845, 2: 44.400850800534094, 3: 54.488191349735175, 4: 54.50641840017424, 5: 63.04808981395073, 6: 83.15246819010959, 7: 109.14889451689196}\n",
      "18 - {0: 0.695044089770006, 1: 31.41736653393219, 2: 44.46079008972911, 3: 54.59127026662467, 4: 63.03344826277828, 5: 70.65937181720828, 6: 77.11173210205577, 7: 109.2845967594845}\n",
      "19 - {0: 0.816483587690645, 1: 0.8044162310767657, 2: 0.8053843169625698, 3: 31.562724614201468, 4: 44.68755221304734, 5: 63.25204379660253, 6: 83.626665629774, 7: 99.85220645204578}\n",
      "20 - {0: 0.8408178347676509, 1: 0.8304549561439821, 2: 0.8289888257984727, 3: 0.8114270830945375, 4: 0.797766518361858, 5: 31.574499498672903, 6: 31.562692169025485, 7: 77.32697649781048}\n",
      "21 - {0: 0.8169240171655446, 1: 0.7785066795976183, 2: 0.7596314253932286, 3: 31.350530525793413, 4: 62.89710529843388, 5: 62.79988366709795, 6: 82.95507867346161, 7: 113.19760337271467}\n",
      "22 - {0: 0.7224358185183238, 1: 0.7251893559846122, 2: 0.7205068705630758, 3: 0.7272188990549829, 4: 0.7137667274795638, 5: 54.1588432125405, 6: 54.141323915119756, 7: 62.60781239103827}\n",
      "23 - {0: 0.6500883554651826, 1: 44.07010443078674, 2: 54.07416947242363, 3: 54.33618748870494, 4: 54.40050063969157, 5: 70.2506537291644, 6: 70.23136654988434, 7: 83.14727299833737}\n",
      "24 - {0: 0.8304637121389368, 1: 0.8642029947744831, 2: 31.255154178722208, 3: 31.32705804159357, 4: 44.415487914047596, 5: 54.421576862960805, 6: 70.2730131550621, 7: 88.81092583784941}\n",
      "25 - {0: 0.996608422766929, 1: 1.0008012271418048, 2: 0.9892900882436833, 3: 0.9754255927456915, 4: 31.500041651983793, 5: 31.52509382625497, 6: 54.60871451918991, 7: 83.43438355191827}\n",
      "26 - {0: 0.6807293013743743, 1: 0.6578838490011449, 2: 31.124043386163844, 3: 31.251790308913648, 4: 31.177022588707228, 5: 62.624340166921655, 6: 76.56371589300579, 7: 112.84487720989463}\n",
      "27 - {0: 312.33270400103015, 1: 316.1544202100478, 2: 317.38739078929603, 3: 319.28297064631903, 4: 320.0482208354351, 5: 322.6660968509465, 6: 325.20720515242004, 7: 331.31636536008494}\n",
      "28 - {0: 0.9011312377759123, 1: 0.892357061251315, 2: 31.50032942173243, 3: 31.56284843917281, 4: 31.63894248572368, 5: 70.74779297345604, 6: 70.77247656068582, 7: 89.57321456376694}\n",
      "29 - {0: 0.858342753658666, 1: 0.78454762417015, 2: 0.7457798288679163, 3: 0.726150136188575, 4: 0.6931341146523389, 5: 31.48020392867547, 6: 62.979293803660376, 7: 83.42569808365441}\n",
      "30 - {0: 0.937032205851783, 1: 31.097699199134656, 2: 31.212313631196082, 3: 31.3525808898544, 4: 31.35285250064929, 5: 54.361185174425614, 6: 82.845533756573, 7: 94.08589109008183}\n",
      "31 - {0: 0.6911344501335831, 1: 0.6526759070094615, 2: 0.6274364799138694, 3: 0.6021795232246073, 4: 31.216929624465777, 5: 62.58247435522997, 6: 76.80478914132935, 7: 117.16061914785337}\n",
      "32 - {0: 0.7745733455051512, 1: 31.27240432785137, 2: 54.22336046680906, 3: 54.36104966507921, 4: 54.51051069890106, 5: 62.98481094801155, 6: 83.3873611619567, 7: 113.56549382968812}\n",
      "33 - {0: 0.6776804509467418, 1: 0.6315695924822098, 2: 0.6929132769394823, 3: 0.6805022876066208, 4: 0.6614344333502002, 5: 70.39147613115385, 6: 83.30683187178096, 7: 117.88884897938544}\n",
      "34 - {0: 0.9128440620780165, 1: 0.9005347544996646, 2: 0.9087262310836903, 3: 0.9033837135524401, 4: 31.877365467157365, 5: 63.749379725551755, 6: 78.12552938405767, 7: 115.0503433189026}\n",
      "35 - {0: 288.5013742773007, 1: 290.084967566327, 2: 293.9726692726242, 3: 296.20757632206, 4: 298.9816986263925, 5: 301.8261514913804, 6: 302.9447320205082, 7: 311.17434743675295}\n",
      "36 - {0: 0.8933590040466703, 1: 44.02831422161045, 2: 44.14458568345858, 3: 44.29716882195738, 4: 44.37368772962101, 5: 44.38250587507995, 6: 70.09233861947847, 7: 88.55601784717338}\n",
      "39 - {0: 0.7506238629106896, 1: 0.7496155210498902, 2: 0.7505653450891974, 3: 0.7332818087846301, 4: 0.73241547408901, 5: 0.7310171947464068, 6: 0.7175617661252556, 7: 77.99025148047886}\n",
      "40 - {0: 0.8213079356777705, 1: 0.811617542183663, 2: 0.8147140557420872, 3: 0.801445159108042, 4: 0.795010869127807, 5: 44.47162558953139, 6: 54.44990423785752, 7: 83.15405719278019}\n",
      "41 - {0: 0.7785424413798135, 1: 0.8014185619961555, 2: 0.7759459159660377, 3: 31.537969773195073, 4: 31.650086191735443, 5: 54.99796032381311, 6: 83.82781185749946, 7: 105.30367273777061}\n",
      "42 - {0: 0.9833943814847033, 1: 0.9789908005338717, 2: 0.9759199130841345, 3: 0.9655513835748329, 4: 0.9586240057168137, 5: 31.25042882752009, 6: 54.33812220176491, 7: 82.90380760792428}\n",
      "44 - {0: 0.9293151061112015, 1: 0.9312520496376598, 2: 0.9250801102200742, 3: 0.9215463859202959, 4: 31.741118562570136, 5: 63.326554025857476, 6: 83.7190462174892, 7: 109.88467499069661}\n",
      "46 - {0: 0.8767278072540345, 1: 0.900646957983106, 2: 0.8681034524602544, 3: 31.371831941699522, 4: 31.349550244272002, 5: 44.48306425125575, 6: 54.50484125476611, 7: 54.49419325437891}\n"
     ]
    }
   ],
   "source": [
    "baseline_rms = dict()\n",
    "all_baseline_rms = []\n",
    "for k in rbs:\n",
    "    baseline_rms[k.rb_id] = dict()\n",
    "    for ch in range(0,8):\n",
    "        baseline_rms[k.rb_id][ch] = rms(baselines[k.rb_id][ch])\n",
    "        all_baseline_rms.append(rms(baselines[k.rb_id][ch]))\n",
    "for k in baseline_rms:\n",
    "    print (f'{k} - {baseline_rms[k]}')"
   ]
  },
  {
   "cell_type": "code",
   "execution_count": 39,
   "id": "79f219d4-d1d0-4507-b243-ca44960ee9a1",
   "metadata": {},
   "outputs": [
    {
     "data": {
      "image/png": "[encoded data removed]",
      "text/plain": [
       "<Figure size 578.851x357.75 with 1 Axes>"
      ]
     },
     "metadata": {},
     "output_type": "display_data"
    }
   ],
   "source": [
    "%matplotlib inline\n",
    "rms_bins = np.linspace(0,50,40)\n",
    "rms_bins = 30\n",
    "#print (baseline_rms)\n",
    "fig = p.figure(figsize=lo.FIGSIZE_A4_LANDSCAPE)\n",
    "ax  = fig.gca()\n",
    "ax.set_ylim(bottom=0, top=150)\n",
    "ax.set_xlabel('baseline RMS [mV]', loc='right')\n",
    "ax.set_ylabel('events', loc='top')\n",
    "ax.set_yscale('linear')\n",
    "h = d.histfactory.hist1d(all_baseline_rms,rms_bins)\n",
    "h.line(alpha=0.8,filled=True)\n",
    "p.show()"
   ]
  },
  {
   "cell_type": "code",
   "execution_count": null,
   "id": "5bac5923-b374-411d-8674-296287b837f8",
   "metadata": {},
   "outputs": [],
   "source": [
    "%matplotlib inline\n",
    "bl_bins = np.linspace(-3,3,30)\n",
    "figsize = lo.FIGSIZE_A4[0]*10, lo.FIGSIZE_A4[1]*10\n",
    "figsize = lo.FIGSIZE_A4\n",
    "#fig = p.figure(figsize=lo.FIGSIZE_A4_LANDSCAPE)\n",
    "\n",
    "for rbid in tqdm(baselines, desc='Creating distributions...'):\n",
    "    fig, axes = p.subplots(nrows=8,\n",
    "                           ncols=1,\n",
    "                           sharex=True,\n",
    "                           sharey=False,\n",
    "                           figsize=figsize)\n",
    "    axes = axes.flatten(order='F')\n",
    "    idx = 0\n",
    "    for ch in baselines[rbid]:\n",
    "        if ch == 8:\n",
    "            continue\n",
    "        ax = axes[idx]\n",
    "        p.sca(ax)\n",
    "        data = baselines[rbid][ch]\n",
    "        ax.text(-2.9,100,f'RB/CH {rbid}/{ch+1}\\nNEVTS {len(data)}', fontsize=8)\n",
    "        #ax.set_ylim(bottom=0.1)\n",
    "        #ax.set_ylim(bottom=min(data))\n",
    "        ax.set_yscale('symlog')\n",
    "        ax.spines['top'].set_visible(True)\n",
    "        ax.spines['right'].set_visible(True)\n",
    "        h   = d.factory.hist1d(data, bl_bins)\n",
    "        h.line(filled=True, alpha=0.8)\n",
    "        ax.text(0.8,0.05, 'baseline [mV]',transform=p.gcf().transFigure)\n",
    "        ax.text(0.015,0.8, 'nevents',transform=p.gcf().transFigure, rotation=90)\n",
    "        \n",
    "        idx += 1\n",
    "        #pass\n",
    "\n",
    "    fig.subplots_adjust(hspace=0)\n",
    "    fig.savefig(f'plots/baselines_rb{rbid}.png')\n",
    "    #break\n",
    "#p.show()\n",
    "  "
   ]
  },
  {
   "cell_type": "code",
   "execution_count": null,
   "id": "501331eb-4cc4-4b31-8a5b-8fa38dea57fe",
   "metadata": {},
   "outputs": [],
   "source": [
    "      \n",
    "data    = baselines[1][1]\n",
    "\n",
    "ax  = fig.gca()\n",
    "ax.set_yscale('symlog')\n",
    "ax.set_xlabel('baseline bin[10:50] [mV]', loc='right')\n",
    "ax.set_ylabel('nevents', loc='top')\n",
    "ax.text(-2.9,max(data)*0.9,'RB/CH 1-1')\n",
    "h   = d.factory.hist1d(data, bl_bins)\n",
    "h.line(filled=True, alpha=0.8)\n",
    "p.show()"
   ]
  },
  {
   "cell_type": "code",
   "execution_count": null,
   "id": "6fdd1e79-4700-474a-9ec6-25cc336e6602",
   "metadata": {},
   "outputs": [],
   "source": []
  },
  {
   "cell_type": "code",
   "execution_count": null,
   "id": "ef7ae8df-05cb-426b-a284-483c738ee9d3",
   "metadata": {},
   "outputs": [],
   "source": []
  },
  {
   "cell_type": "code",
   "execution_count": null,
   "id": "86bbf33d-fbf1-4eb9-8298-0610447f7f1b",
   "metadata": {},
   "outputs": [],
   "source": []
  }
 ],
 "metadata": {
  "kernelspec": {
   "display_name": "Python 3 (ipykernel)",
   "language": "python",
   "name": "python3"
  },
  "language_info": {
   "codemirror_mode": {
    "name": "ipython",
    "version": 3
   },
   "file_extension": ".py",
   "mimetype": "text/x-python",
   "name": "python",
   "nbconvert_exporter": "python",
   "pygments_lexer": "ipython3",
   "version": "3.10.12"
  }
 },
 "nbformat": 4,
 "nbformat_minor": 5
}
